{
 "cells": [
  {
   "cell_type": "code",
   "execution_count": 1,
   "metadata": {},
   "outputs": [],
   "source": [
    "import numpy as np\n",
    "import pandas as pd\n",
    "import scipy\n",
    "import scipy.linalg\n",
    "from scipy.stats import norm"
   ]
  },
  {
   "cell_type": "code",
   "execution_count": 2,
   "metadata": {},
   "outputs": [],
   "source": [
    "price = pd.read_excel('k10_historical_price.xlsx')\n",
    "rets = np.log(price/price.shift(1))\n",
    "rets.dropna(inplace=True)"
   ]
  },
  {
   "cell_type": "code",
   "execution_count": 3,
   "metadata": {},
   "outputs": [],
   "source": [
    "# Cholesky Decomposition\n",
    "corr_ret = np.array(rets.corr())\n",
    "C = scipy.array(corr_ret)\n",
    "L = scipy.linalg.cholesky(C, lower = True)\n",
    "U = scipy.linalg.cholesky(C, lower = False)"
   ]
  },
  {
   "cell_type": "code",
   "execution_count": 4,
   "metadata": {},
   "outputs": [],
   "source": [
    "mean = rets.mean()\n",
    "std = rets.std()"
   ]
  },
  {
   "cell_type": "code",
   "execution_count": 5,
   "metadata": {},
   "outputs": [],
   "source": [
    "def MonteCarloRet(mu, sigma, lowerMatrix, number=1000):    \n",
    "    MC_rets = []\n",
    "    for n in range(number):\n",
    "        \n",
    "        # 주어진 주가수익률의 평균과 표준편차를 가지는 정규분포로부터 랜덤 샘플 추출\n",
    "        standard_ranRet = np.array([norm(mu[i],sigma[i]).rvs(1)[0] for i in range(len(mu))])\n",
    "        \n",
    "        # 원 샘플의 상관관계를 가지게 하기 위해 Cholesky decomposition에서 나온 lower triangular matrix L을 곱함.\n",
    "        corr_renRet = lowerMatrix.dot(standard_ranRet)\n",
    "        corr_renRetlist = [corr_renRet[i] for i in range(len(mu))]\n",
    "        MC_rets.append(corr_renRetlist)\n",
    "    MC_rets = np.array(MC_rets)\n",
    "    return MC_rets\n",
    "\n",
    "def VaR(weights, returns):\n",
    "    MC_portfolio_rets = (returns * weights).sum(axis=1)\n",
    "    VaR_per_price = -np.quantile(MC_portfolio_rets, 0.05)\n",
    "    return VaR_per_price"
   ]
  },
  {
   "cell_type": "code",
   "execution_count": 6,
   "metadata": {},
   "outputs": [],
   "source": [
    "MC_rets = MonteCarloRet(mean, std, L)"
   ]
  },
  {
   "cell_type": "code",
   "execution_count": 7,
   "metadata": {},
   "outputs": [
    {
     "data": {
      "text/plain": [
       "0.01690292822584758"
      ]
     },
     "execution_count": 7,
     "metadata": {},
     "output_type": "execute_result"
    }
   ],
   "source": [
    "weight = [0.1]*10\n",
    "VaR(weight, MC_rets)"
   ]
  },
  {
   "cell_type": "code",
   "execution_count": 8,
   "metadata": {},
   "outputs": [
    {
     "data": {
      "text/plain": [
       "array([1.53191061e-03, 3.14467975e-02, 1.36090984e-01, 7.31989569e-19,\n",
       "       2.96329707e-02, 1.22033021e-01, 2.74998344e-01, 1.50133741e-01,\n",
       "       1.35985163e-01, 1.18147068e-01])"
      ]
     },
     "execution_count": 8,
     "metadata": {},
     "output_type": "execute_result"
    }
   ],
   "source": [
    "# Minimum VaR portfolio\n",
    "import scipy.optimize as sco\n",
    "\n",
    "def optimizeVaR(weights):\n",
    "    return VaR(weights, MC_rets)\n",
    "\n",
    "cons = ({'type':'eq', 'fun':lambda x: np.sum(x)-1})\n",
    "bnds = tuple((0,1) for x in range(10))\n",
    "\n",
    "opts = sco.minimize(optimizeVaR, weight, method='SLSQP', bounds=bnds, constraints=cons)\n",
    "optimum_weight = opts.x\n",
    "optimum_weight"
   ]
  },
  {
   "cell_type": "code",
   "execution_count": 9,
   "metadata": {
    "scrolled": true
   },
   "outputs": [
    {
     "name": "stdout",
     "output_type": "stream",
     "text": [
      "Expected Return: 0.148\n",
      "Expected Volatility: 0.117\n",
      "Expected Sharpe Ratio: 1.268\n"
     ]
    }
   ],
   "source": [
    "pf_ret = (mean * optimum_weight * 252).sum()\n",
    "pf_std = np.sqrt(np.dot(optimum_weight.T, np.dot(rets.cov()*252, optimum_weight)))\n",
    "print(\"Expected Return: {}\".format(pf_ret.round(3)))\n",
    "print(\"Expected Volatility: {}\".format(pf_std.round(3)))\n",
    "print(\"Expected Sharpe Ratio: {}\".format((pf_ret/pf_std).round(3)))"
   ]
  }
 ],
 "metadata": {
  "kernelspec": {
   "display_name": "Python 3",
   "language": "python",
   "name": "python3"
  },
  "language_info": {
   "codemirror_mode": {
    "name": "ipython",
    "version": 3
   },
   "file_extension": ".py",
   "mimetype": "text/x-python",
   "name": "python",
   "nbconvert_exporter": "python",
   "pygments_lexer": "ipython3",
   "version": "3.6.6"
  },
  "toc": {
   "base_numbering": 1,
   "nav_menu": {},
   "number_sections": true,
   "sideBar": true,
   "skip_h1_title": false,
   "title_cell": "Table of Contents",
   "title_sidebar": "Contents",
   "toc_cell": false,
   "toc_position": {},
   "toc_section_display": true,
   "toc_window_display": false
  }
 },
 "nbformat": 4,
 "nbformat_minor": 2
}
