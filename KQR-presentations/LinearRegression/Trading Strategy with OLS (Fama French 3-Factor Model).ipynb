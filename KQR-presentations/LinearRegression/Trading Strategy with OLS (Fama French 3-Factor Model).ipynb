{
 "cells": [
  {
   "cell_type": "markdown",
   "metadata": {},
   "source": [
    "2019/04/02 장연식"
   ]
  },
  {
   "cell_type": "code",
   "execution_count": 198,
   "metadata": {},
   "outputs": [
    {
     "data": {
      "text/plain": [
       "'/Users/yeonsik/Desktop/QuantModeling/Factor Model/data'"
      ]
     },
     "execution_count": 198,
     "metadata": {},
     "output_type": "execute_result"
    }
   ],
   "source": [
    "import os\n",
    "# os.chdir('./data')\n",
    "os.getcwd()"
   ]
  },
  {
   "cell_type": "markdown",
   "metadata": {},
   "source": [
    "### . 주가 데이터 다운로드"
   ]
  },
  {
   "cell_type": "code",
   "execution_count": 127,
   "metadata": {
    "scrolled": true
   },
   "outputs": [],
   "source": [
    "# import pandas as pd\n",
    "# name = '삼성전자'\n",
    "# code = '005930'\n",
    "# url = 'http://finance.naver.com/item/sise_day.nhn?code={code}'.format(code=code)\n",
    "        \n",
    "# df = pd.DataFrame()\n",
    "\n",
    "# # pages = 408 (2002.10.14~)\n",
    "# pages = 408\n",
    "# for page in range(1, pages+1):\n",
    "#     page_url = '{url}&page={page}'.format(url=url, page=page)\n",
    "#     df = df.append(pd.read_html(page_url, header=0)[0], ignore_index=True)\n",
    "    \n",
    "# df = df[[\"날짜\",'종가']]\n",
    "# df = df.rename(columns= {'날짜': 'Date', '종가': name})\n",
    "# df = df.dropna()\n",
    "# df['Date'] = pd.to_datetime(df['Date'])\n",
    "# df = df.sort_values(by=['Date'], ascending=True)\n",
    "# df.set_index('Date', inplace=True)\n",
    "\n",
    "# df.to_csv(name+\".csv\")\n",
    "# print(\"{} 데이터 다운로드 완료\".format(name))"
   ]
  },
  {
   "cell_type": "code",
   "execution_count": null,
   "metadata": {},
   "outputs": [],
   "source": []
  },
  {
   "cell_type": "code",
   "execution_count": 199,
   "metadata": {},
   "outputs": [
    {
     "data": {
      "text/html": [
       "<div>\n",
       "<style scoped>\n",
       "    .dataframe tbody tr th:only-of-type {\n",
       "        vertical-align: middle;\n",
       "    }\n",
       "\n",
       "    .dataframe tbody tr th {\n",
       "        vertical-align: top;\n",
       "    }\n",
       "\n",
       "    .dataframe thead th {\n",
       "        text-align: right;\n",
       "    }\n",
       "</style>\n",
       "<table border=\"1\" class=\"dataframe\">\n",
       "  <thead>\n",
       "    <tr style=\"text-align: right;\">\n",
       "      <th></th>\n",
       "      <th>close</th>\n",
       "      <th>adj_close</th>\n",
       "      <th>Return</th>\n",
       "    </tr>\n",
       "    <tr>\n",
       "      <th>Date</th>\n",
       "      <th></th>\n",
       "      <th></th>\n",
       "      <th></th>\n",
       "    </tr>\n",
       "  </thead>\n",
       "  <tbody>\n",
       "    <tr>\n",
       "      <th>2002-10-15</th>\n",
       "      <td>300000</td>\n",
       "      <td>6000</td>\n",
       "      <td>0.040822</td>\n",
       "    </tr>\n",
       "    <tr>\n",
       "      <th>2002-10-16</th>\n",
       "      <td>305000</td>\n",
       "      <td>6100</td>\n",
       "      <td>0.016529</td>\n",
       "    </tr>\n",
       "    <tr>\n",
       "      <th>2002-10-17</th>\n",
       "      <td>307500</td>\n",
       "      <td>6150</td>\n",
       "      <td>0.008163</td>\n",
       "    </tr>\n",
       "    <tr>\n",
       "      <th>2002-10-18</th>\n",
       "      <td>326500</td>\n",
       "      <td>6530</td>\n",
       "      <td>0.059955</td>\n",
       "    </tr>\n",
       "    <tr>\n",
       "      <th>2002-10-21</th>\n",
       "      <td>324000</td>\n",
       "      <td>6480</td>\n",
       "      <td>-0.007686</td>\n",
       "    </tr>\n",
       "  </tbody>\n",
       "</table>\n",
       "</div>"
      ],
      "text/plain": [
       "             close  adj_close    Return\n",
       "Date                                   \n",
       "2002-10-15  300000       6000  0.040822\n",
       "2002-10-16  305000       6100  0.016529\n",
       "2002-10-17  307500       6150  0.008163\n",
       "2002-10-18  326500       6530  0.059955\n",
       "2002-10-21  324000       6480 -0.007686"
      ]
     },
     "execution_count": 199,
     "metadata": {},
     "output_type": "execute_result"
    }
   ],
   "source": [
    "import pandas as pd\n",
    "import numpy as np\n",
    "df = pd.read_csv(name+\".csv\")\n",
    "df['Date'] = pd.to_datetime(df['Date'])\n",
    "df = df[(df['Date']<'2019-02-02') & (df['Date']>'2002-10-13')]\n",
    "#액면분할을 고려한 adj_close값은 엑셀시트에서 직접 고쳐주었다.\n",
    "df['Return'] = np.log(df['adj_close']).diff()\n",
    "df.dropna(inplace=True)\n",
    "df.set_index('Date', inplace=True)\n",
    "df.head()"
   ]
  },
  {
   "cell_type": "code",
   "execution_count": 200,
   "metadata": {},
   "outputs": [
    {
     "data": {
      "text/plain": [
       "<matplotlib.axes._subplots.AxesSubplot at 0x1a2414a278>"
      ]
     },
     "execution_count": 200,
     "metadata": {},
     "output_type": "execute_result"
    },
    {
     "data": {
      "image/png": "[encoded data removed]",
      "text/plain": [
       "<Figure size 432x288 with 1 Axes>"
      ]
     },
     "metadata": {
      "needs_background": "light"
     },
     "output_type": "display_data"
    }
   ],
   "source": [
    "df['adj_close'].plot()"
   ]
  },
  {
   "cell_type": "markdown",
   "metadata": {},
   "source": [
    "### . Fama-French Factor 다운로드\n",
    "Global : http://mba.tuck.dartmouth.edu/pages/faculty/ken.french/data_library.html\n",
    "<br />\n",
    "Korea : https://sites.google.com/view/handaresearch"
   ]
  },
  {
   "cell_type": "code",
   "execution_count": 203,
   "metadata": {},
   "outputs": [
    {
     "data": {
      "text/html": [
       "<div>\n",
       "<style scoped>\n",
       "    .dataframe tbody tr th:only-of-type {\n",
       "        vertical-align: middle;\n",
       "    }\n",
       "\n",
       "    .dataframe tbody tr th {\n",
       "        vertical-align: top;\n",
       "    }\n",
       "\n",
       "    .dataframe thead th {\n",
       "        text-align: right;\n",
       "    }\n",
       "</style>\n",
       "<table border=\"1\" class=\"dataframe\">\n",
       "  <thead>\n",
       "    <tr style=\"text-align: right;\">\n",
       "      <th></th>\n",
       "      <th>Mkt</th>\n",
       "      <th>SMB</th>\n",
       "      <th>HML</th>\n",
       "      <th>Rf</th>\n",
       "    </tr>\n",
       "    <tr>\n",
       "      <th>Date</th>\n",
       "      <th></th>\n",
       "      <th></th>\n",
       "      <th></th>\n",
       "      <th></th>\n",
       "    </tr>\n",
       "  </thead>\n",
       "  <tbody>\n",
       "    <tr>\n",
       "      <th>2002-10-15</th>\n",
       "      <td>0.024734</td>\n",
       "      <td>-0.000552</td>\n",
       "      <td>-0.016276</td>\n",
       "      <td>0.000166</td>\n",
       "    </tr>\n",
       "    <tr>\n",
       "      <th>2002-10-16</th>\n",
       "      <td>0.010434</td>\n",
       "      <td>-0.007845</td>\n",
       "      <td>-0.007954</td>\n",
       "      <td>0.000166</td>\n",
       "    </tr>\n",
       "    <tr>\n",
       "      <th>2002-10-17</th>\n",
       "      <td>0.013034</td>\n",
       "      <td>-0.008266</td>\n",
       "      <td>0.002015</td>\n",
       "      <td>0.000166</td>\n",
       "    </tr>\n",
       "    <tr>\n",
       "      <th>2002-10-18</th>\n",
       "      <td>0.040333</td>\n",
       "      <td>-0.014602</td>\n",
       "      <td>-0.006111</td>\n",
       "      <td>0.000167</td>\n",
       "    </tr>\n",
       "    <tr>\n",
       "      <th>2002-10-21</th>\n",
       "      <td>-0.027164</td>\n",
       "      <td>0.013193</td>\n",
       "      <td>0.006187</td>\n",
       "      <td>0.000164</td>\n",
       "    </tr>\n",
       "  </tbody>\n",
       "</table>\n",
       "</div>"
      ],
      "text/plain": [
       "                 Mkt       SMB       HML        Rf\n",
       "Date                                              \n",
       "2002-10-15  0.024734 -0.000552 -0.016276  0.000166\n",
       "2002-10-16  0.010434 -0.007845 -0.007954  0.000166\n",
       "2002-10-17  0.013034 -0.008266  0.002015  0.000166\n",
       "2002-10-18  0.040333 -0.014602 -0.006111  0.000167\n",
       "2002-10-21 -0.027164  0.013193  0.006187  0.000164"
      ]
     },
     "execution_count": 203,
     "metadata": {},
     "output_type": "execute_result"
    }
   ],
   "source": [
    "factors = pd.read_csv(\"three_factor_daily.csv\")\n",
    "factors['Date'] = pd.to_datetime(factors['Date'])\n",
    "factors = factors[factors['Date']>'2002.10.14']\n",
    "factors.set_index('Date', inplace=True)\n",
    "factors.head()"
   ]
  },
  {
   "cell_type": "markdown",
   "metadata": {},
   "source": [
    "### . concatenate & train/test 분리"
   ]
  },
  {
   "cell_type": "code",
   "execution_count": 154,
   "metadata": {},
   "outputs": [
    {
     "data": {
      "text/html": [
       "<div>\n",
       "<style scoped>\n",
       "    .dataframe tbody tr th:only-of-type {\n",
       "        vertical-align: middle;\n",
       "    }\n",
       "\n",
       "    .dataframe tbody tr th {\n",
       "        vertical-align: top;\n",
       "    }\n",
       "\n",
       "    .dataframe thead th {\n",
       "        text-align: right;\n",
       "    }\n",
       "</style>\n",
       "<table border=\"1\" class=\"dataframe\">\n",
       "  <thead>\n",
       "    <tr style=\"text-align: right;\">\n",
       "      <th></th>\n",
       "      <th>close</th>\n",
       "      <th>adj_close</th>\n",
       "      <th>Return</th>\n",
       "      <th>Mkt</th>\n",
       "      <th>SMB</th>\n",
       "      <th>HML</th>\n",
       "      <th>Rf</th>\n",
       "    </tr>\n",
       "    <tr>\n",
       "      <th>Date</th>\n",
       "      <th></th>\n",
       "      <th></th>\n",
       "      <th></th>\n",
       "      <th></th>\n",
       "      <th></th>\n",
       "      <th></th>\n",
       "      <th></th>\n",
       "    </tr>\n",
       "  </thead>\n",
       "  <tbody>\n",
       "    <tr>\n",
       "      <th>2002-10-15</th>\n",
       "      <td>300000</td>\n",
       "      <td>6000</td>\n",
       "      <td>0.040822</td>\n",
       "      <td>0.024734</td>\n",
       "      <td>-0.000552</td>\n",
       "      <td>-0.016276</td>\n",
       "      <td>0.000166</td>\n",
       "    </tr>\n",
       "    <tr>\n",
       "      <th>2002-10-16</th>\n",
       "      <td>305000</td>\n",
       "      <td>6100</td>\n",
       "      <td>0.016529</td>\n",
       "      <td>0.010434</td>\n",
       "      <td>-0.007845</td>\n",
       "      <td>-0.007954</td>\n",
       "      <td>0.000166</td>\n",
       "    </tr>\n",
       "    <tr>\n",
       "      <th>2002-10-17</th>\n",
       "      <td>307500</td>\n",
       "      <td>6150</td>\n",
       "      <td>0.008163</td>\n",
       "      <td>0.013034</td>\n",
       "      <td>-0.008266</td>\n",
       "      <td>0.002015</td>\n",
       "      <td>0.000166</td>\n",
       "    </tr>\n",
       "    <tr>\n",
       "      <th>2002-10-18</th>\n",
       "      <td>326500</td>\n",
       "      <td>6530</td>\n",
       "      <td>0.059955</td>\n",
       "      <td>0.040333</td>\n",
       "      <td>-0.014602</td>\n",
       "      <td>-0.006111</td>\n",
       "      <td>0.000167</td>\n",
       "    </tr>\n",
       "    <tr>\n",
       "      <th>2002-10-21</th>\n",
       "      <td>324000</td>\n",
       "      <td>6480</td>\n",
       "      <td>-0.007686</td>\n",
       "      <td>-0.027164</td>\n",
       "      <td>0.013193</td>\n",
       "      <td>0.006187</td>\n",
       "      <td>0.000164</td>\n",
       "    </tr>\n",
       "  </tbody>\n",
       "</table>\n",
       "</div>"
      ],
      "text/plain": [
       "             close  adj_close    Return       Mkt       SMB       HML  \\\n",
       "Date                                                                    \n",
       "2002-10-15  300000       6000  0.040822  0.024734 -0.000552 -0.016276   \n",
       "2002-10-16  305000       6100  0.016529  0.010434 -0.007845 -0.007954   \n",
       "2002-10-17  307500       6150  0.008163  0.013034 -0.008266  0.002015   \n",
       "2002-10-18  326500       6530  0.059955  0.040333 -0.014602 -0.006111   \n",
       "2002-10-21  324000       6480 -0.007686 -0.027164  0.013193  0.006187   \n",
       "\n",
       "                  Rf  \n",
       "Date                  \n",
       "2002-10-15  0.000166  \n",
       "2002-10-16  0.000166  \n",
       "2002-10-17  0.000166  \n",
       "2002-10-18  0.000167  \n",
       "2002-10-21  0.000164  "
      ]
     },
     "execution_count": 154,
     "metadata": {},
     "output_type": "execute_result"
    }
   ],
   "source": [
    "dfconcat = pd.concat([df,factors],axis = 1)\n",
    "trainset = dfconcat[:int(len(dfconcat.index)*0.5)]\n",
    "testset = dfconcat[int(len(dfconcat.index)*0.5):]\n",
    "trainset.head()"
   ]
  },
  {
   "cell_type": "markdown",
   "metadata": {},
   "source": [
    "### . OLS 분석 (trainset)"
   ]
  },
  {
   "cell_type": "code",
   "execution_count": 158,
   "metadata": {},
   "outputs": [
    {
     "name": "stdout",
     "output_type": "stream",
     "text": [
      "                            OLS Regression Results                            \n",
      "==============================================================================\n",
      "Dep. Variable:                 Return   R-squared:                       0.608\n",
      "Model:                            OLS   Adj. R-squared:                  0.607\n",
      "Method:                 Least Squares   F-statistic:                     1039.\n",
      "Date:                Fri, 29 Mar 2019   Prob (F-statistic):               0.00\n",
      "Time:                        18:18:25   Log-Likelihood:                 5879.7\n",
      "No. Observations:                2017   AIC:                        -1.175e+04\n",
      "Df Residuals:                    2013   BIC:                        -1.173e+04\n",
      "Df Model:                           3                                         \n",
      "Covariance Type:            nonrobust                                         \n",
      "==============================================================================\n",
      "                 coef    std err          t      P>|t|      [0.025      0.975]\n",
      "------------------------------------------------------------------------------\n",
      "Intercept      0.0003      0.000      0.871      0.384      -0.000       0.001\n",
      "Mkt            0.8767      0.026     34.331      0.000       0.827       0.927\n",
      "SMB           -0.3875      0.038    -10.212      0.000      -0.462      -0.313\n",
      "HML           -0.2321      0.050     -4.602      0.000      -0.331      -0.133\n",
      "==============================================================================\n",
      "Omnibus:                       88.347   Durbin-Watson:                   1.805\n",
      "Prob(Omnibus):                  0.000   Jarque-Bera (JB):              244.997\n",
      "Skew:                           0.169   Prob(JB):                     6.30e-54\n",
      "Kurtosis:                       4.673   Cond. No.                         193.\n",
      "==============================================================================\n",
      "\n",
      "Warnings:\n",
      "[1] Standard Errors assume that the covariance matrix of the errors is correctly specified.\n"
     ]
    }
   ],
   "source": [
    "import statsmodels.formula.api as sm\n",
    "model = sm.ols(formula = 'Return ~ Mkt+SMB+HML',data = trainset).fit()\n",
    "print(model.summary())\n",
    "\n",
    "# DW : 오차의 자기상관 검정 (정규분포는 2, <2일 때 + 자기상관, >2일때 - 자기상관)\n",
    "# JB : 오차의 정규성 검정 (정규분포는 0)\n",
    "# Skew : <0 : left tail, 0: normal, >0: right tail\n",
    "# Kurtosis : k=3 (normal), 뾰족한 정도"
   ]
  },
  {
   "cell_type": "code",
   "execution_count": 159,
   "metadata": {},
   "outputs": [],
   "source": [
    "fit = model.predict(trainset)"
   ]
  },
  {
   "cell_type": "code",
   "execution_count": 160,
   "metadata": {},
   "outputs": [
    {
     "data": {
      "text/plain": [
       "<matplotlib.axes._subplots.AxesSubplot at 0x11719b7f0>"
      ]
     },
     "execution_count": 160,
     "metadata": {},
     "output_type": "execute_result"
    },
    {
     "data": {
      "image/png": "[encoded data removed]",
      "text/plain": [
       "<Figure size 432x288 with 1 Axes>"
      ]
     },
     "metadata": {
      "needs_background": "light"
     },
     "output_type": "display_data"
    }
   ],
   "source": [
    "# residual distribution\n",
    "import matplotlib.pyplot as plt\n",
    "%matplotlib inline\n",
    "residual = trainset['Return']-fit\n",
    "residual.plot()"
   ]
  },
  {
   "cell_type": "code",
   "execution_count": 161,
   "metadata": {},
   "outputs": [
    {
     "data": {
      "text/plain": [
       "<matplotlib.axes._subplots.AxesSubplot at 0x1a2398f208>"
      ]
     },
     "execution_count": 161,
     "metadata": {},
     "output_type": "execute_result"
    },
    {
     "data": {
      "image/png": "[encoded data removed]",
      "text/plain": [
       "<Figure size 432x288 with 1 Axes>"
      ]
     },
     "metadata": {
      "needs_background": "light"
     },
     "output_type": "display_data"
    }
   ],
   "source": [
    "# histogram\n",
    "residual.hist()"
   ]
  },
  {
   "cell_type": "code",
   "execution_count": 355,
   "metadata": {
    "scrolled": true
   },
   "outputs": [
    {
     "data": {
      "image/png": "[encoded data removed]",
      "text/plain": [
       "<Figure size 432x288 with 1 Axes>"
      ]
     },
     "metadata": {
      "needs_background": "light"
     },
     "output_type": "display_data"
    }
   ],
   "source": [
    "# QQ plot\n",
    "import scipy.stats as stats\n",
    "stats.probplot(residual, dist=\"norm\", plot=plt)\n",
    "plt.show()"
   ]
  },
  {
   "cell_type": "code",
   "execution_count": 163,
   "metadata": {},
   "outputs": [
    {
     "data": {
      "text/plain": [
       "0.013115168026017122"
      ]
     },
     "execution_count": 163,
     "metadata": {},
     "output_type": "execute_result"
    }
   ],
   "source": [
    "def RMSE(data):\n",
    "    # return root mean square of error\n",
    "    return np.sqrt((data**2).mean())\n",
    "RMSE(residual)"
   ]
  },
  {
   "cell_type": "markdown",
   "metadata": {},
   "source": [
    "### . 전략 백테스트 (trainset)\n",
    "\n",
    "오늘의 수익률 예측값이 양수이면 내일 종가에 매수, 음수이면 내일 종가에 매도하는 전략"
   ]
  },
  {
   "cell_type": "code",
   "execution_count": 164,
   "metadata": {},
   "outputs": [
    {
     "data": {
      "text/html": [
       "<div>\n",
       "<style scoped>\n",
       "    .dataframe tbody tr th:only-of-type {\n",
       "        vertical-align: middle;\n",
       "    }\n",
       "\n",
       "    .dataframe tbody tr th {\n",
       "        vertical-align: top;\n",
       "    }\n",
       "\n",
       "    .dataframe thead th {\n",
       "        text-align: right;\n",
       "    }\n",
       "</style>\n",
       "<table border=\"1\" class=\"dataframe\">\n",
       "  <thead>\n",
       "    <tr style=\"text-align: right;\">\n",
       "      <th></th>\n",
       "      <th>Buy &amp; Hold</th>\n",
       "      <th>Linear_fit</th>\n",
       "      <th>Position</th>\n",
       "      <th>Strategy_Returns</th>\n",
       "    </tr>\n",
       "    <tr>\n",
       "      <th>Date</th>\n",
       "      <th></th>\n",
       "      <th></th>\n",
       "      <th></th>\n",
       "      <th></th>\n",
       "    </tr>\n",
       "  </thead>\n",
       "  <tbody>\n",
       "    <tr>\n",
       "      <th>2002-10-16</th>\n",
       "      <td>0.016529</td>\n",
       "      <td>0.014290</td>\n",
       "      <td>1</td>\n",
       "      <td>0.016529</td>\n",
       "    </tr>\n",
       "    <tr>\n",
       "      <th>2002-10-17</th>\n",
       "      <td>0.008163</td>\n",
       "      <td>0.014419</td>\n",
       "      <td>1</td>\n",
       "      <td>0.008163</td>\n",
       "    </tr>\n",
       "    <tr>\n",
       "      <th>2002-10-18</th>\n",
       "      <td>0.059955</td>\n",
       "      <td>0.042692</td>\n",
       "      <td>1</td>\n",
       "      <td>0.059955</td>\n",
       "    </tr>\n",
       "    <tr>\n",
       "      <th>2002-10-21</th>\n",
       "      <td>-0.007686</td>\n",
       "      <td>-0.030105</td>\n",
       "      <td>-1</td>\n",
       "      <td>-0.007686</td>\n",
       "    </tr>\n",
       "    <tr>\n",
       "      <th>2002-10-22</th>\n",
       "      <td>-0.013986</td>\n",
       "      <td>-0.022306</td>\n",
       "      <td>-1</td>\n",
       "      <td>0.013986</td>\n",
       "    </tr>\n",
       "  </tbody>\n",
       "</table>\n",
       "</div>"
      ],
      "text/plain": [
       "            Buy & Hold  Linear_fit  Position  Strategy_Returns\n",
       "Date                                                          \n",
       "2002-10-16    0.016529    0.014290         1          0.016529\n",
       "2002-10-17    0.008163    0.014419         1          0.008163\n",
       "2002-10-18    0.059955    0.042692         1          0.059955\n",
       "2002-10-21   -0.007686   -0.030105        -1         -0.007686\n",
       "2002-10-22   -0.013986   -0.022306        -1          0.013986"
      ]
     },
     "execution_count": 164,
     "metadata": {},
     "output_type": "execute_result"
    }
   ],
   "source": [
    "df_data = pd.DataFrame(trainset['Return'])\n",
    "df_data.rename(columns={\"Return\":\"Buy & Hold\"}, inplace = True)\n",
    "df_data['Linear_fit'] = fit\n",
    "df_signal = df_data.copy()\n",
    "df_signal['Position'] = np.where(df_signal['Linear_fit']>0,1,-1)\n",
    "df_signal['Strategy_Returns'] = df_signal['Buy & Hold']*df_signal['Position'].shift(1)\n",
    "df_signal.dropna(inplace=True)\n",
    "df_signal.head()"
   ]
  },
  {
   "cell_type": "code",
   "execution_count": 177,
   "metadata": {},
   "outputs": [],
   "source": [
    "def APR(dataframe):\n",
    "    return dataframe.dropna().cumsum().apply(np.exp)[-1]**(252/len(df_signal))-1\n",
    "def sharpratio(dataframe):\n",
    "    return np.sqrt(252)*dataframe.mean()/dataframe.std()   "
   ]
  },
  {
   "cell_type": "code",
   "execution_count": 180,
   "metadata": {
    "scrolled": true
   },
   "outputs": [
    {
     "name": "stdout",
     "output_type": "stream",
     "text": [
      "Buy & Hold: APR = 0.13920278542039677, sharpratio = 0.39226000829709595\n",
      "Strategy: APR = 0.2366444042786524, sharpratio = 0.6396044741030757\n"
     ]
    },
    {
     "data": {
      "image/png": "[encoded data removed]",
      "text/plain": [
       "<Figure size 720x432 with 1 Axes>"
      ]
     },
     "metadata": {
      "needs_background": "light"
     },
     "output_type": "display_data"
    }
   ],
   "source": [
    "df_signal[['Buy & Hold', 'Strategy_Returns']].dropna().cumsum().apply(np.exp).plot(figsize=(10,6))\n",
    "print(\"Buy & Hold: APR = {}, sharpratio = {}\".format(APR(df_signal['Buy & Hold']), sharpratio(df_signal['Buy & Hold'])))\n",
    "print(\"Strategy: APR = {}, sharpratio = {}\".format(APR(df_signal['Strategy_Returns']), sharpratio(df_signal['Strategy_Returns'])))"
   ]
  },
  {
   "cell_type": "markdown",
   "metadata": {},
   "source": [
    "### . OLS 분석 (testset)"
   ]
  },
  {
   "cell_type": "code",
   "execution_count": 181,
   "metadata": {},
   "outputs": [],
   "source": [
    "prediction = model.predict(testset)"
   ]
  },
  {
   "cell_type": "code",
   "execution_count": 183,
   "metadata": {},
   "outputs": [
    {
     "data": {
      "text/plain": [
       "<matplotlib.axes._subplots.AxesSubplot at 0x1a22bfe898>"
      ]
     },
     "execution_count": 183,
     "metadata": {},
     "output_type": "execute_result"
    },
    {
     "data": {
      "image/png": "[encoded data removed]",
      "text/plain": [
       "<Figure size 432x288 with 1 Axes>"
      ]
     },
     "metadata": {
      "needs_background": "light"
     },
     "output_type": "display_data"
    }
   ],
   "source": [
    "residual_test = testset['Return']-prediction\n",
    "residual_test.plot()"
   ]
  },
  {
   "cell_type": "code",
   "execution_count": 184,
   "metadata": {},
   "outputs": [
    {
     "data": {
      "text/plain": [
       "<matplotlib.axes._subplots.AxesSubplot at 0x1a21b49f28>"
      ]
     },
     "execution_count": 184,
     "metadata": {},
     "output_type": "execute_result"
    },
    {
     "data": {
      "image/png": "[encoded data removed]",
      "text/plain": [
       "<Figure size 432x288 with 1 Axes>"
      ]
     },
     "metadata": {
      "needs_background": "light"
     },
     "output_type": "display_data"
    }
   ],
   "source": [
    "# histogram\n",
    "residual_test.hist()"
   ]
  },
  {
   "cell_type": "code",
   "execution_count": 185,
   "metadata": {},
   "outputs": [
    {
     "data": {
      "text/plain": [
       "((array([-3.39477647, -3.14388823, -3.00473857, ...,  3.00473857,\n",
       "          3.14388823,  3.39477647]),\n",
       "  array([-0.08020769, -0.07227557, -0.0499436 , ...,  0.05100417,\n",
       "          0.05361793,  0.07577173])),\n",
       " (0.012952418485130233, 0.0003857390983976883, 0.9901556248017569))"
      ]
     },
     "execution_count": 185,
     "metadata": {},
     "output_type": "execute_result"
    },
    {
     "data": {
      "image/png": "[encoded data removed]",
      "text/plain": [
       "<Figure size 432x288 with 1 Axes>"
      ]
     },
     "metadata": {
      "needs_background": "light"
     },
     "output_type": "display_data"
    }
   ],
   "source": [
    "stats.probplot(residual_test, dist=\"norm\", plot=plt)"
   ]
  },
  {
   "cell_type": "code",
   "execution_count": 205,
   "metadata": {},
   "outputs": [
    {
     "name": "stdout",
     "output_type": "stream",
     "text": [
      "trainset의 RMSE = 0.013115168026017122\n",
      "testset의 RMSE = 0.013067306826447812\n"
     ]
    }
   ],
   "source": [
    "print(\"trainset의 RMSE = {}\".format(RMSE(residual)))\n",
    "print(\"testset의 RMSE = {}\".format(RMSE(residual_test)))"
   ]
  },
  {
   "cell_type": "markdown",
   "metadata": {},
   "source": [
    "### . 전략 백테스트 (testset)"
   ]
  },
  {
   "cell_type": "code",
   "execution_count": 192,
   "metadata": {
    "scrolled": true
   },
   "outputs": [
    {
     "data": {
      "text/html": [
       "<div>\n",
       "<style scoped>\n",
       "    .dataframe tbody tr th:only-of-type {\n",
       "        vertical-align: middle;\n",
       "    }\n",
       "\n",
       "    .dataframe tbody tr th {\n",
       "        vertical-align: top;\n",
       "    }\n",
       "\n",
       "    .dataframe thead th {\n",
       "        text-align: right;\n",
       "    }\n",
       "</style>\n",
       "<table border=\"1\" class=\"dataframe\">\n",
       "  <thead>\n",
       "    <tr style=\"text-align: right;\">\n",
       "      <th></th>\n",
       "      <th>Buy &amp; Hold</th>\n",
       "      <th>Linear_fit</th>\n",
       "      <th>Position</th>\n",
       "      <th>Strategy_Returns</th>\n",
       "    </tr>\n",
       "    <tr>\n",
       "      <th>Date</th>\n",
       "      <th></th>\n",
       "      <th></th>\n",
       "      <th></th>\n",
       "      <th></th>\n",
       "    </tr>\n",
       "  </thead>\n",
       "  <tbody>\n",
       "    <tr>\n",
       "      <th>2010-11-26</th>\n",
       "      <td>-0.009513</td>\n",
       "      <td>-0.008109</td>\n",
       "      <td>-1</td>\n",
       "      <td>0.009513</td>\n",
       "    </tr>\n",
       "    <tr>\n",
       "      <th>2010-11-29</th>\n",
       "      <td>-0.001195</td>\n",
       "      <td>-0.003068</td>\n",
       "      <td>-1</td>\n",
       "      <td>0.001195</td>\n",
       "    </tr>\n",
       "    <tr>\n",
       "      <th>2010-11-30</th>\n",
       "      <td>-0.012034</td>\n",
       "      <td>0.003905</td>\n",
       "      <td>1</td>\n",
       "      <td>0.012034</td>\n",
       "    </tr>\n",
       "    <tr>\n",
       "      <th>2010-12-01</th>\n",
       "      <td>-0.007290</td>\n",
       "      <td>0.013191</td>\n",
       "      <td>1</td>\n",
       "      <td>-0.007290</td>\n",
       "    </tr>\n",
       "    <tr>\n",
       "      <th>2010-12-02</th>\n",
       "      <td>0.046465</td>\n",
       "      <td>0.010322</td>\n",
       "      <td>1</td>\n",
       "      <td>0.046465</td>\n",
       "    </tr>\n",
       "  </tbody>\n",
       "</table>\n",
       "</div>"
      ],
      "text/plain": [
       "            Buy & Hold  Linear_fit  Position  Strategy_Returns\n",
       "Date                                                          \n",
       "2010-11-26   -0.009513   -0.008109        -1          0.009513\n",
       "2010-11-29   -0.001195   -0.003068        -1          0.001195\n",
       "2010-11-30   -0.012034    0.003905         1          0.012034\n",
       "2010-12-01   -0.007290    0.013191         1         -0.007290\n",
       "2010-12-02    0.046465    0.010322         1          0.046465"
      ]
     },
     "execution_count": 192,
     "metadata": {},
     "output_type": "execute_result"
    }
   ],
   "source": [
    "df_data_test = pd.DataFrame(testset['Return'])\n",
    "df_data_test.rename(columns={\"Return\":\"Buy & Hold\"}, inplace = True)\n",
    "df_data_test['Linear_fit'] = prediction\n",
    "df_signal_test = df_data_test.copy()\n",
    "df_signal_test['Position'] = np.where(df_signal_test['Linear_fit']>0,1,-1)\n",
    "df_signal_test['Strategy_Returns'] = df_signal_test['Buy & Hold']*df_signal_test['Position'].shift(1)\n",
    "df_signal_test.dropna(inplace=True)\n",
    "df_signal_test.head()"
   ]
  },
  {
   "cell_type": "code",
   "execution_count": 193,
   "metadata": {
    "scrolled": true
   },
   "outputs": [
    {
     "name": "stdout",
     "output_type": "stream",
     "text": [
      "Buy & Hold: APR = 0.13441086983275174, sharpratio = 0.4599172254766534\n",
      "Strategy: APR = -0.056067573889660216, sharpratio = -0.21035612761389844\n"
     ]
    },
    {
     "data": {
      "image/png": "[encoded data removed]",
      "text/plain": [
       "<Figure size 720x432 with 1 Axes>"
      ]
     },
     "metadata": {
      "needs_background": "light"
     },
     "output_type": "display_data"
    }
   ],
   "source": [
    "df_signal_test[['Buy & Hold', 'Strategy_Returns']].dropna().cumsum().apply(np.exp).plot(figsize=(10,6))\n",
    "print(\"Buy & Hold: APR = {}, sharpratio = {}\".format(APR(df_signal_test['Buy & Hold']), sharpratio(df_signal_test['Buy & Hold'])))\n",
    "print(\"Strategy: APR = {}, sharpratio = {}\".format(APR(df_signal_test['Strategy_Returns']), sharpratio(df_signal_test['Strategy_Returns'])))"
   ]
  },
  {
   "cell_type": "markdown",
   "metadata": {},
   "source": [
    "파마 프렌치 팩터 모델로 내일의 수익률을 예측하는 것은 train set에서는 잘 맞으나 test set에서 맞지 않는다.\n",
    "이는 너무 먼 과거의 beta 값과 test set의 beta에는 큰 차이가 있을 것이기 때문이다 (due to regime shift). \n",
    "\n",
    "개선하려면 적절한 기간을 lookback window로 두고 (이를테면 20일) 그 기간동안의 데이터로 regression해서 나온 beta를 통해 21일째의 수익률에 betting하는 식으로 rolling하는 방법을 생각해 볼 수 있다."
   ]
  },
  {
   "cell_type": "markdown",
   "metadata": {},
   "source": [
    "### . 파마 프렌치 3팩터에 대한 Statistical Arbitrage 전략 백테스트"
   ]
  },
  {
   "cell_type": "markdown",
   "metadata": {},
   "source": [
    "앞선 전략의 문제점을 개선하여 새로운 로직을 짜본다.\n",
    "전략 : 과거 20일동안 파마프렌치 팩터의 beta값을 선형회귀로 구한다. 이를 통해 예측한 21일째의 수익률과 실제 수익률 사이의 스프레드를 구한 후, 이 스프레드가 과거 20일 데이터로 만든 볼린저 밴드 하단에 있을 때 매수, 상당에 있을때 매도 하는 전략."
   ]
  },
  {
   "cell_type": "code",
   "execution_count": 291,
   "metadata": {},
   "outputs": [],
   "source": [
    "def calculateRollingSpread(dataframe, window = 20):\n",
    "    \n",
    "    datelist = []\n",
    "    realreturnlist = []\n",
    "    olspredlist = []\n",
    "    spreadlist = [] \n",
    "    \n",
    "    for i in range(len(dataframe)-window-1):\n",
    "        \n",
    "        date = dataframe.index[i+window]\n",
    "        datelist.append(date)\n",
    "        \n",
    "        real_return = dataframe['Return'][i+window]\n",
    "        realreturnlist.append(real_return)\n",
    "        \n",
    "        ols_model = sm.ols(formula = 'Return ~ Mkt+SMB+HML',data = dataframe[i:i+window]).fit()\n",
    "        ols_prediction = ols_model.predict(dataframe)[i+window]\n",
    "        olspredlist.append(ols_prediction)\n",
    "        \n",
    "        spread = real_return - ols_prediction\n",
    "        spreadlist.append(spread)\n",
    "   \n",
    "\n",
    "    df_table = pd.DataFrame(\n",
    "    data={'real_return':realreturnlist,'ols_prediction':olspredlist,'spread':spreadlist},\n",
    "    columns = ['real_return', 'ols_prediction', 'spread'], index = [datelist])\n",
    "    \n",
    "    return df_table\n",
    "      "
   ]
  },
  {
   "cell_type": "code",
   "execution_count": 333,
   "metadata": {},
   "outputs": [],
   "source": [
    "spreadtable = calculateRollingSpread(dfconcat[:1000])"
   ]
  },
  {
   "cell_type": "code",
   "execution_count": 334,
   "metadata": {},
   "outputs": [],
   "source": [
    "spreadtable = spreadtable.copy()"
   ]
  },
  {
   "cell_type": "code",
   "execution_count": 335,
   "metadata": {},
   "outputs": [
    {
     "data": {
      "text/html": [
       "<div>\n",
       "<style scoped>\n",
       "    .dataframe tbody tr th:only-of-type {\n",
       "        vertical-align: middle;\n",
       "    }\n",
       "\n",
       "    .dataframe tbody tr th {\n",
       "        vertical-align: top;\n",
       "    }\n",
       "\n",
       "    .dataframe thead th {\n",
       "        text-align: right;\n",
       "    }\n",
       "</style>\n",
       "<table border=\"1\" class=\"dataframe\">\n",
       "  <thead>\n",
       "    <tr style=\"text-align: right;\">\n",
       "      <th></th>\n",
       "      <th>real_return</th>\n",
       "      <th>ols_prediction</th>\n",
       "      <th>spread</th>\n",
       "      <th>moving_average</th>\n",
       "      <th>std</th>\n",
       "      <th>upper_band</th>\n",
       "      <th>lower_band</th>\n",
       "    </tr>\n",
       "  </thead>\n",
       "  <tbody>\n",
       "    <tr>\n",
       "      <th>2002-12-09</th>\n",
       "      <td>0.001343</td>\n",
       "      <td>-0.010482</td>\n",
       "      <td>0.011825</td>\n",
       "      <td>-0.004677</td>\n",
       "      <td>0.009781</td>\n",
       "      <td>0.005104</td>\n",
       "      <td>-0.014459</td>\n",
       "    </tr>\n",
       "    <tr>\n",
       "      <th>2002-12-10</th>\n",
       "      <td>-0.021710</td>\n",
       "      <td>-0.015856</td>\n",
       "      <td>-0.005855</td>\n",
       "      <td>-0.004903</td>\n",
       "      <td>0.009753</td>\n",
       "      <td>0.004850</td>\n",
       "      <td>-0.014655</td>\n",
       "    </tr>\n",
       "    <tr>\n",
       "      <th>2002-12-11</th>\n",
       "      <td>0.004107</td>\n",
       "      <td>-0.007628</td>\n",
       "      <td>0.011734</td>\n",
       "      <td>-0.004658</td>\n",
       "      <td>0.010117</td>\n",
       "      <td>0.005459</td>\n",
       "      <td>-0.014775</td>\n",
       "    </tr>\n",
       "    <tr>\n",
       "      <th>2002-12-12</th>\n",
       "      <td>0.005450</td>\n",
       "      <td>0.027752</td>\n",
       "      <td>-0.022303</td>\n",
       "      <td>-0.004428</td>\n",
       "      <td>0.009624</td>\n",
       "      <td>0.005196</td>\n",
       "      <td>-0.014052</td>\n",
       "    </tr>\n",
       "    <tr>\n",
       "      <th>2002-12-13</th>\n",
       "      <td>-0.016439</td>\n",
       "      <td>-0.014570</td>\n",
       "      <td>-0.001869</td>\n",
       "      <td>-0.004200</td>\n",
       "      <td>0.009628</td>\n",
       "      <td>0.005428</td>\n",
       "      <td>-0.013828</td>\n",
       "    </tr>\n",
       "  </tbody>\n",
       "</table>\n",
       "</div>"
      ],
      "text/plain": [
       "            real_return  ols_prediction    spread  moving_average       std  \\\n",
       "2002-12-09     0.001343       -0.010482  0.011825       -0.004677  0.009781   \n",
       "2002-12-10    -0.021710       -0.015856 -0.005855       -0.004903  0.009753   \n",
       "2002-12-11     0.004107       -0.007628  0.011734       -0.004658  0.010117   \n",
       "2002-12-12     0.005450        0.027752 -0.022303       -0.004428  0.009624   \n",
       "2002-12-13    -0.016439       -0.014570 -0.001869       -0.004200  0.009628   \n",
       "\n",
       "            upper_band  lower_band  \n",
       "2002-12-09    0.005104   -0.014459  \n",
       "2002-12-10    0.004850   -0.014655  \n",
       "2002-12-11    0.005459   -0.014775  \n",
       "2002-12-12    0.005196   -0.014052  \n",
       "2002-12-13    0.005428   -0.013828  "
      ]
     },
     "execution_count": 335,
     "metadata": {},
     "output_type": "execute_result"
    }
   ],
   "source": [
    "# spread에 대한 볼린저 밴드 생성\n",
    "spreadtable['moving_average'] = spreadtable['spread'].rolling(20).mean()\n",
    "spreadtable['std'] = spreadtable['spread'].rolling(20).std()\n",
    "spreadtable['upper_band'] = spreadtable['moving_average'] + spreadtable['std']\n",
    "spreadtable['lower_band'] = spreadtable['moving_average'] - spreadtable['std']\n",
    "spreadtable.dropna(inplace=True)\n",
    "spreadtable.head()"
   ]
  },
  {
   "cell_type": "code",
   "execution_count": 336,
   "metadata": {},
   "outputs": [
    {
     "data": {
      "text/plain": [
       "<matplotlib.axes._subplots.AxesSubplot at 0x1a22865c50>"
      ]
     },
     "execution_count": 336,
     "metadata": {},
     "output_type": "execute_result"
    },
    {
     "data": {
      "image/png": "[encoded data removed]",
      "text/plain": [
       "<Figure size 432x288 with 1 Axes>"
      ]
     },
     "metadata": {
      "needs_background": "light"
     },
     "output_type": "display_data"
    }
   ],
   "source": [
    "spreadtable['spread'].hist()"
   ]
  },
  {
   "cell_type": "code",
   "execution_count": 337,
   "metadata": {},
   "outputs": [
    {
     "data": {
      "text/plain": [
       "((array([-3.18580162e+00, -2.91968299e+00, -2.77111801e+00, -2.66630715e+00,\n",
       "         -2.58451873e+00, -2.51705480e+00, -2.45940935e+00, -2.40893550e+00,\n",
       "         -2.36394151e+00, -2.32327827e+00, -2.28612837e+00, -2.25188894e+00,\n",
       "         -2.22010217e+00, -2.19041194e+00, -2.16253560e+00, -2.13624490e+00,\n",
       "         -2.11135280e+00, -2.08770403e+00, -2.06516826e+00, -2.04363495e+00,\n",
       "         -2.02300953e+00, -2.00321043e+00, -1.98416680e+00, -1.96581668e+00,\n",
       "         -1.94810558e+00, -1.93098528e+00, -1.91441293e+00, -1.89835027e+00,\n",
       "         -1.88276297e+00, -1.86762013e+00, -1.85289381e+00, -1.83855869e+00,\n",
       "         -1.82459172e+00, -1.81097188e+00, -1.79767991e+00, -1.78469817e+00,\n",
       "         -1.77201041e+00, -1.75960165e+00, -1.74745807e+00, -1.73556683e+00,\n",
       "         -1.72391607e+00, -1.71249472e+00, -1.70129248e+00, -1.69029976e+00,\n",
       "         -1.67950758e+00, -1.66890755e+00, -1.65849178e+00, -1.64825289e+00,\n",
       "         -1.63818394e+00, -1.62827839e+00, -1.61853007e+00, -1.60893318e+00,\n",
       "         -1.59948223e+00, -1.59017202e+00, -1.58099764e+00, -1.57195443e+00,\n",
       "         -1.56303799e+00, -1.55424410e+00, -1.54556879e+00, -1.53700827e+00,\n",
       "         -1.52855892e+00, -1.52021731e+00, -1.51198016e+00, -1.50384434e+00,\n",
       "         -1.49580686e+00, -1.48786487e+00, -1.48001563e+00, -1.47225653e+00,\n",
       "         -1.46458507e+00, -1.45699884e+00, -1.44949555e+00, -1.44207299e+00,\n",
       "         -1.43472904e+00, -1.42746167e+00, -1.42026891e+00, -1.41314889e+00,\n",
       "         -1.40609980e+00, -1.39911989e+00, -1.39220749e+00, -1.38536098e+00,\n",
       "         -1.37857880e+00, -1.37185944e+00, -1.36520146e+00, -1.35860345e+00,\n",
       "         -1.35206406e+00, -1.34558198e+00, -1.33915596e+00, -1.33278476e+00,\n",
       "         -1.32646721e+00, -1.32020216e+00, -1.31398850e+00, -1.30782517e+00,\n",
       "         -1.30171112e+00, -1.29564535e+00, -1.28962688e+00, -1.28365476e+00,\n",
       "         -1.27772808e+00, -1.27184594e+00, -1.26600748e+00, -1.26021186e+00,\n",
       "         -1.25445826e+00, -1.24874589e+00, -1.24307399e+00, -1.23744179e+00,\n",
       "         -1.23184858e+00, -1.22629364e+00, -1.22077628e+00, -1.21529584e+00,\n",
       "         -1.20985166e+00, -1.20444310e+00, -1.19906955e+00, -1.19373040e+00,\n",
       "         -1.18842506e+00, -1.18315297e+00, -1.17791356e+00, -1.17270628e+00,\n",
       "         -1.16753061e+00, -1.16238603e+00, -1.15727203e+00, -1.15218812e+00,\n",
       "         -1.14713382e+00, -1.14210865e+00, -1.13711216e+00, -1.13214389e+00,\n",
       "         -1.12720342e+00, -1.12229031e+00, -1.11740414e+00, -1.11254450e+00,\n",
       "         -1.10771099e+00, -1.10290323e+00, -1.09812082e+00, -1.09336340e+00,\n",
       "         -1.08863060e+00, -1.08392206e+00, -1.07923742e+00, -1.07457636e+00,\n",
       "         -1.06993852e+00, -1.06532358e+00, -1.06073122e+00, -1.05616113e+00,\n",
       "         -1.05161298e+00, -1.04708649e+00, -1.04258135e+00, -1.03809727e+00,\n",
       "         -1.03363396e+00, -1.02919116e+00, -1.02476857e+00, -1.02036594e+00,\n",
       "         -1.01598300e+00, -1.01161949e+00, -1.00727516e+00, -1.00294975e+00,\n",
       "         -9.98643029e-01, -9.94354751e-01, -9.90084680e-01, -9.85832586e-01,\n",
       "         -9.81598242e-01, -9.77381425e-01, -9.73181916e-01, -9.68999500e-01,\n",
       "         -9.64833967e-01, -9.60685107e-01, -9.56552719e-01, -9.52436601e-01,\n",
       "         -9.48336557e-01, -9.44252393e-01, -9.40183919e-01, -9.36130948e-01,\n",
       "         -9.32093296e-01, -9.28070783e-01, -9.24063232e-01, -9.20070466e-01,\n",
       "         -9.16092315e-01, -9.12128609e-01, -9.08179181e-01, -9.04243869e-01,\n",
       "         -9.00322511e-01, -8.96414949e-01, -8.92521027e-01, -8.88640590e-01,\n",
       "         -8.84773489e-01, -8.80919574e-01, -8.77078699e-01, -8.73250719e-01,\n",
       "         -8.69435493e-01, -8.65632880e-01, -8.61842744e-01, -8.58064948e-01,\n",
       "         -8.54299358e-01, -8.50545843e-01, -8.46804273e-01, -8.43074521e-01,\n",
       "         -8.39356460e-01, -8.35649966e-01, -8.31954917e-01, -8.28271192e-01,\n",
       "         -8.24598673e-01, -8.20937241e-01, -8.17286783e-01, -8.13647183e-01,\n",
       "         -8.10018329e-01, -8.06400111e-01, -8.02792419e-01, -7.99195146e-01,\n",
       "         -7.95608185e-01, -7.92031432e-01, -7.88464782e-01, -7.84908135e-01,\n",
       "         -7.81361389e-01, -7.77824444e-01, -7.74297204e-01, -7.70779571e-01,\n",
       "         -7.67271449e-01, -7.63772745e-01, -7.60283366e-01, -7.56803218e-01,\n",
       "         -7.53332213e-01, -7.49870260e-01, -7.46417272e-01, -7.42973160e-01,\n",
       "         -7.39537838e-01, -7.36111223e-01, -7.32693228e-01, -7.29283772e-01,\n",
       "         -7.25882773e-01, -7.22490149e-01, -7.19105821e-01, -7.15729709e-01,\n",
       "         -7.12361735e-01, -7.09001823e-01, -7.05649895e-01, -7.02305877e-01,\n",
       "         -6.98969694e-01, -6.95641273e-01, -6.92320541e-01, -6.89007425e-01,\n",
       "         -6.85701855e-01, -6.82403761e-01, -6.79113073e-01, -6.75829723e-01,\n",
       "         -6.72553642e-01, -6.69284764e-01, -6.66023021e-01, -6.62768349e-01,\n",
       "         -6.59520683e-01, -6.56279958e-01, -6.53046111e-01, -6.49819079e-01,\n",
       "         -6.46598800e-01, -6.43385212e-01, -6.40178255e-01, -6.36977868e-01,\n",
       "         -6.33783993e-01, -6.30596569e-01, -6.27415540e-01, -6.24240846e-01,\n",
       "         -6.21072432e-01, -6.17910240e-01, -6.14754215e-01, -6.11604301e-01,\n",
       "         -6.08460444e-01, -6.05322589e-01, -6.02190684e-01, -5.99064673e-01,\n",
       "         -5.95944507e-01, -5.92830131e-01, -5.89721494e-01, -5.86618546e-01,\n",
       "         -5.83521236e-01, -5.80429514e-01, -5.77343329e-01, -5.74262635e-01,\n",
       "         -5.71187380e-01, -5.68117518e-01, -5.65053001e-01, -5.61993781e-01,\n",
       "         -5.58939812e-01, -5.55891046e-01, -5.52847440e-01, -5.49808945e-01,\n",
       "         -5.46775519e-01, -5.43747115e-01, -5.40723690e-01, -5.37705200e-01,\n",
       "         -5.34691601e-01, -5.31682850e-01, -5.28678905e-01, -5.25679723e-01,\n",
       "         -5.22685262e-01, -5.19695480e-01, -5.16710337e-01, -5.13729790e-01,\n",
       "         -5.10753801e-01, -5.07782329e-01, -5.04815333e-01, -5.01852774e-01,\n",
       "         -4.98894614e-01, -4.95940813e-01, -4.92991333e-01, -4.90046135e-01,\n",
       "         -4.87105181e-01, -4.84168435e-01, -4.81235859e-01, -4.78307415e-01,\n",
       "         -4.75383068e-01, -4.72462780e-01, -4.69546516e-01, -4.66634240e-01,\n",
       "         -4.63725916e-01, -4.60821509e-01, -4.57920985e-01, -4.55024307e-01,\n",
       "         -4.52131443e-01, -4.49242358e-01, -4.46357017e-01, -4.43475388e-01,\n",
       "         -4.40597436e-01, -4.37723129e-01, -4.34852434e-01, -4.31985318e-01,\n",
       "         -4.29121749e-01, -4.26261694e-01, -4.23405122e-01, -4.20552001e-01,\n",
       "         -4.17702299e-01, -4.14855985e-01, -4.12013028e-01, -4.09173397e-01,\n",
       "         -4.06337061e-01, -4.03503991e-01, -4.00674156e-01, -3.97847526e-01,\n",
       "         -3.95024071e-01, -3.92203761e-01, -3.89386568e-01, -3.86572462e-01,\n",
       "         -3.83761413e-01, -3.80953394e-01, -3.78148376e-01, -3.75346330e-01,\n",
       "         -3.72547227e-01, -3.69751041e-01, -3.66957742e-01, -3.64167304e-01,\n",
       "         -3.61379699e-01, -3.58594899e-01, -3.55812877e-01, -3.53033606e-01,\n",
       "         -3.50257059e-01, -3.47483210e-01, -3.44712032e-01, -3.41943499e-01,\n",
       "         -3.39177584e-01, -3.36414262e-01, -3.33653506e-01, -3.30895291e-01,\n",
       "         -3.28139591e-01, -3.25386380e-01, -3.22635634e-01, -3.19887327e-01,\n",
       "         -3.17141434e-01, -3.14397930e-01, -3.11656790e-01, -3.08917990e-01,\n",
       "         -3.06181506e-01, -3.03447312e-01, -3.00715385e-01, -2.97985701e-01,\n",
       "         -2.95258235e-01, -2.92532963e-01, -2.89809863e-01, -2.87088910e-01,\n",
       "         -2.84370081e-01, -2.81653352e-01, -2.78938700e-01, -2.76226103e-01,\n",
       "         -2.73515536e-01, -2.70806978e-01, -2.68100405e-01, -2.65395794e-01,\n",
       "         -2.62693123e-01, -2.59992370e-01, -2.57293512e-01, -2.54596527e-01,\n",
       "         -2.51901392e-01, -2.49208086e-01, -2.46516586e-01, -2.43826871e-01,\n",
       "         -2.41138919e-01, -2.38452708e-01, -2.35768216e-01, -2.33085423e-01,\n",
       "         -2.30404306e-01, -2.27724844e-01, -2.25047016e-01, -2.22370801e-01,\n",
       "         -2.19696177e-01, -2.17023125e-01, -2.14351622e-01, -2.11681648e-01,\n",
       "         -2.09013182e-01, -2.06346204e-01, -2.03680692e-01, -2.01016627e-01,\n",
       "         -1.98353988e-01, -1.95692755e-01, -1.93032906e-01, -1.90374423e-01,\n",
       "         -1.87717284e-01, -1.85061470e-01, -1.82406961e-01, -1.79753736e-01,\n",
       "         -1.77101777e-01, -1.74451062e-01, -1.71801572e-01, -1.69153288e-01,\n",
       "         -1.66506190e-01, -1.63860257e-01, -1.61215472e-01, -1.58571814e-01,\n",
       "         -1.55929263e-01, -1.53287801e-01, -1.50647408e-01, -1.48008065e-01,\n",
       "         -1.45369753e-01, -1.42732452e-01, -1.40096143e-01, -1.37460808e-01,\n",
       "         -1.34826427e-01, -1.32192981e-01, -1.29560452e-01, -1.26928821e-01,\n",
       "         -1.24298068e-01, -1.21668175e-01, -1.19039123e-01, -1.16410894e-01,\n",
       "         -1.13783469e-01, -1.11156829e-01, -1.08530956e-01, -1.05905831e-01,\n",
       "         -1.03281435e-01, -1.00657751e-01, -9.80347591e-02, -9.54124418e-02,\n",
       "         -9.27907804e-02, -9.01697567e-02, -8.75493522e-02, -8.49295487e-02,\n",
       "         -8.23103281e-02, -7.96916719e-02, -7.70735622e-02, -7.44559806e-02,\n",
       "         -7.18389091e-02, -6.92223295e-02, -6.66062238e-02, -6.39905738e-02,\n",
       "         -6.13753616e-02, -5.87605691e-02, -5.61461782e-02, -5.35321711e-02,\n",
       "         -5.09185297e-02, -4.83052361e-02, -4.56922723e-02, -4.30796205e-02,\n",
       "         -4.04672627e-02, -3.78551810e-02, -3.52433576e-02, -3.26317746e-02,\n",
       "         -3.00204142e-02, -2.74092584e-02, -2.47982895e-02, -2.21874896e-02,\n",
       "         -1.95768410e-02, -1.69663258e-02, -1.43559262e-02, -1.17456244e-02,\n",
       "         -9.13540268e-03, -6.52524317e-03, -3.91512812e-03, -1.30503974e-03,\n",
       "          1.30503974e-03,  3.91512812e-03,  6.52524317e-03,  9.13540268e-03,\n",
       "          1.17456244e-02,  1.43559262e-02,  1.69663258e-02,  1.95768410e-02,\n",
       "          2.21874896e-02,  2.47982895e-02,  2.74092584e-02,  3.00204142e-02,\n",
       "          3.26317746e-02,  3.52433576e-02,  3.78551810e-02,  4.04672627e-02,\n",
       "          4.30796205e-02,  4.56922723e-02,  4.83052361e-02,  5.09185297e-02,\n",
       "          5.35321711e-02,  5.61461782e-02,  5.87605691e-02,  6.13753616e-02,\n",
       "          6.39905738e-02,  6.66062238e-02,  6.92223295e-02,  7.18389091e-02,\n",
       "          7.44559806e-02,  7.70735622e-02,  7.96916719e-02,  8.23103281e-02,\n",
       "          8.49295487e-02,  8.75493522e-02,  9.01697567e-02,  9.27907804e-02,\n",
       "          9.54124418e-02,  9.80347591e-02,  1.00657751e-01,  1.03281435e-01,\n",
       "          1.05905831e-01,  1.08530956e-01,  1.11156829e-01,  1.13783469e-01,\n",
       "          1.16410894e-01,  1.19039123e-01,  1.21668175e-01,  1.24298068e-01,\n",
       "          1.26928821e-01,  1.29560452e-01,  1.32192981e-01,  1.34826427e-01,\n",
       "          1.37460808e-01,  1.40096143e-01,  1.42732452e-01,  1.45369753e-01,\n",
       "          1.48008065e-01,  1.50647408e-01,  1.53287801e-01,  1.55929263e-01,\n",
       "          1.58571814e-01,  1.61215472e-01,  1.63860257e-01,  1.66506190e-01,\n",
       "          1.69153288e-01,  1.71801572e-01,  1.74451062e-01,  1.77101777e-01,\n",
       "          1.79753736e-01,  1.82406961e-01,  1.85061470e-01,  1.87717284e-01,\n",
       "          1.90374423e-01,  1.93032906e-01,  1.95692755e-01,  1.98353988e-01,\n",
       "          2.01016627e-01,  2.03680692e-01,  2.06346204e-01,  2.09013182e-01,\n",
       "          2.11681648e-01,  2.14351622e-01,  2.17023125e-01,  2.19696177e-01,\n",
       "          2.22370801e-01,  2.25047016e-01,  2.27724844e-01,  2.30404306e-01,\n",
       "          2.33085423e-01,  2.35768216e-01,  2.38452708e-01,  2.41138919e-01,\n",
       "          2.43826871e-01,  2.46516586e-01,  2.49208086e-01,  2.51901392e-01,\n",
       "          2.54596527e-01,  2.57293512e-01,  2.59992370e-01,  2.62693123e-01,\n",
       "          2.65395794e-01,  2.68100405e-01,  2.70806978e-01,  2.73515536e-01,\n",
       "          2.76226103e-01,  2.78938700e-01,  2.81653352e-01,  2.84370081e-01,\n",
       "          2.87088910e-01,  2.89809863e-01,  2.92532963e-01,  2.95258235e-01,\n",
       "          2.97985701e-01,  3.00715385e-01,  3.03447312e-01,  3.06181506e-01,\n",
       "          3.08917990e-01,  3.11656790e-01,  3.14397930e-01,  3.17141434e-01,\n",
       "          3.19887327e-01,  3.22635634e-01,  3.25386380e-01,  3.28139591e-01,\n",
       "          3.30895291e-01,  3.33653506e-01,  3.36414262e-01,  3.39177584e-01,\n",
       "          3.41943499e-01,  3.44712032e-01,  3.47483210e-01,  3.50257059e-01,\n",
       "          3.53033606e-01,  3.55812877e-01,  3.58594899e-01,  3.61379699e-01,\n",
       "          3.64167304e-01,  3.66957742e-01,  3.69751041e-01,  3.72547227e-01,\n",
       "          3.75346330e-01,  3.78148376e-01,  3.80953394e-01,  3.83761413e-01,\n",
       "          3.86572462e-01,  3.89386568e-01,  3.92203761e-01,  3.95024071e-01,\n",
       "          3.97847526e-01,  4.00674156e-01,  4.03503991e-01,  4.06337061e-01,\n",
       "          4.09173397e-01,  4.12013028e-01,  4.14855985e-01,  4.17702299e-01,\n",
       "          4.20552001e-01,  4.23405122e-01,  4.26261694e-01,  4.29121749e-01,\n",
       "          4.31985318e-01,  4.34852434e-01,  4.37723129e-01,  4.40597436e-01,\n",
       "          4.43475388e-01,  4.46357017e-01,  4.49242358e-01,  4.52131443e-01,\n",
       "          4.55024307e-01,  4.57920985e-01,  4.60821509e-01,  4.63725916e-01,\n",
       "          4.66634240e-01,  4.69546516e-01,  4.72462780e-01,  4.75383068e-01,\n",
       "          4.78307415e-01,  4.81235859e-01,  4.84168435e-01,  4.87105181e-01,\n",
       "          4.90046135e-01,  4.92991333e-01,  4.95940813e-01,  4.98894614e-01,\n",
       "          5.01852774e-01,  5.04815333e-01,  5.07782329e-01,  5.10753801e-01,\n",
       "          5.13729790e-01,  5.16710337e-01,  5.19695480e-01,  5.22685262e-01,\n",
       "          5.25679723e-01,  5.28678905e-01,  5.31682850e-01,  5.34691601e-01,\n",
       "          5.37705200e-01,  5.40723690e-01,  5.43747115e-01,  5.46775519e-01,\n",
       "          5.49808945e-01,  5.52847440e-01,  5.55891046e-01,  5.58939812e-01,\n",
       "          5.61993781e-01,  5.65053001e-01,  5.68117518e-01,  5.71187380e-01,\n",
       "          5.74262635e-01,  5.77343329e-01,  5.80429514e-01,  5.83521236e-01,\n",
       "          5.86618546e-01,  5.89721494e-01,  5.92830131e-01,  5.95944507e-01,\n",
       "          5.99064673e-01,  6.02190684e-01,  6.05322589e-01,  6.08460444e-01,\n",
       "          6.11604301e-01,  6.14754215e-01,  6.17910240e-01,  6.21072432e-01,\n",
       "          6.24240846e-01,  6.27415540e-01,  6.30596569e-01,  6.33783993e-01,\n",
       "          6.36977868e-01,  6.40178255e-01,  6.43385212e-01,  6.46598800e-01,\n",
       "          6.49819079e-01,  6.53046111e-01,  6.56279958e-01,  6.59520683e-01,\n",
       "          6.62768349e-01,  6.66023021e-01,  6.69284764e-01,  6.72553642e-01,\n",
       "          6.75829723e-01,  6.79113073e-01,  6.82403761e-01,  6.85701855e-01,\n",
       "          6.89007425e-01,  6.92320541e-01,  6.95641273e-01,  6.98969694e-01,\n",
       "          7.02305877e-01,  7.05649895e-01,  7.09001823e-01,  7.12361735e-01,\n",
       "          7.15729709e-01,  7.19105821e-01,  7.22490149e-01,  7.25882773e-01,\n",
       "          7.29283772e-01,  7.32693228e-01,  7.36111223e-01,  7.39537838e-01,\n",
       "          7.42973160e-01,  7.46417272e-01,  7.49870260e-01,  7.53332213e-01,\n",
       "          7.56803218e-01,  7.60283366e-01,  7.63772745e-01,  7.67271449e-01,\n",
       "          7.70779571e-01,  7.74297204e-01,  7.77824444e-01,  7.81361389e-01,\n",
       "          7.84908135e-01,  7.88464782e-01,  7.92031432e-01,  7.95608185e-01,\n",
       "          7.99195146e-01,  8.02792419e-01,  8.06400111e-01,  8.10018329e-01,\n",
       "          8.13647183e-01,  8.17286783e-01,  8.20937241e-01,  8.24598673e-01,\n",
       "          8.28271192e-01,  8.31954917e-01,  8.35649966e-01,  8.39356460e-01,\n",
       "          8.43074521e-01,  8.46804273e-01,  8.50545843e-01,  8.54299358e-01,\n",
       "          8.58064948e-01,  8.61842744e-01,  8.65632880e-01,  8.69435493e-01,\n",
       "          8.73250719e-01,  8.77078699e-01,  8.80919574e-01,  8.84773489e-01,\n",
       "          8.88640590e-01,  8.92521027e-01,  8.96414949e-01,  9.00322511e-01,\n",
       "          9.04243869e-01,  9.08179181e-01,  9.12128609e-01,  9.16092315e-01,\n",
       "          9.20070466e-01,  9.24063232e-01,  9.28070783e-01,  9.32093296e-01,\n",
       "          9.36130948e-01,  9.40183919e-01,  9.44252393e-01,  9.48336557e-01,\n",
       "          9.52436601e-01,  9.56552719e-01,  9.60685107e-01,  9.64833967e-01,\n",
       "          9.68999500e-01,  9.73181916e-01,  9.77381425e-01,  9.81598242e-01,\n",
       "          9.85832586e-01,  9.90084680e-01,  9.94354751e-01,  9.98643029e-01,\n",
       "          1.00294975e+00,  1.00727516e+00,  1.01161949e+00,  1.01598300e+00,\n",
       "          1.02036594e+00,  1.02476857e+00,  1.02919116e+00,  1.03363396e+00,\n",
       "          1.03809727e+00,  1.04258135e+00,  1.04708649e+00,  1.05161298e+00,\n",
       "          1.05616113e+00,  1.06073122e+00,  1.06532358e+00,  1.06993852e+00,\n",
       "          1.07457636e+00,  1.07923742e+00,  1.08392206e+00,  1.08863060e+00,\n",
       "          1.09336340e+00,  1.09812082e+00,  1.10290323e+00,  1.10771099e+00,\n",
       "          1.11254450e+00,  1.11740414e+00,  1.12229031e+00,  1.12720342e+00,\n",
       "          1.13214389e+00,  1.13711216e+00,  1.14210865e+00,  1.14713382e+00,\n",
       "          1.15218812e+00,  1.15727203e+00,  1.16238603e+00,  1.16753061e+00,\n",
       "          1.17270628e+00,  1.17791356e+00,  1.18315297e+00,  1.18842506e+00,\n",
       "          1.19373040e+00,  1.19906955e+00,  1.20444310e+00,  1.20985166e+00,\n",
       "          1.21529584e+00,  1.22077628e+00,  1.22629364e+00,  1.23184858e+00,\n",
       "          1.23744179e+00,  1.24307399e+00,  1.24874589e+00,  1.25445826e+00,\n",
       "          1.26021186e+00,  1.26600748e+00,  1.27184594e+00,  1.27772808e+00,\n",
       "          1.28365476e+00,  1.28962688e+00,  1.29564535e+00,  1.30171112e+00,\n",
       "          1.30782517e+00,  1.31398850e+00,  1.32020216e+00,  1.32646721e+00,\n",
       "          1.33278476e+00,  1.33915596e+00,  1.34558198e+00,  1.35206406e+00,\n",
       "          1.35860345e+00,  1.36520146e+00,  1.37185944e+00,  1.37857880e+00,\n",
       "          1.38536098e+00,  1.39220749e+00,  1.39911989e+00,  1.40609980e+00,\n",
       "          1.41314889e+00,  1.42026891e+00,  1.42746167e+00,  1.43472904e+00,\n",
       "          1.44207299e+00,  1.44949555e+00,  1.45699884e+00,  1.46458507e+00,\n",
       "          1.47225653e+00,  1.48001563e+00,  1.48786487e+00,  1.49580686e+00,\n",
       "          1.50384434e+00,  1.51198016e+00,  1.52021731e+00,  1.52855892e+00,\n",
       "          1.53700827e+00,  1.54556879e+00,  1.55424410e+00,  1.56303799e+00,\n",
       "          1.57195443e+00,  1.58099764e+00,  1.59017202e+00,  1.59948223e+00,\n",
       "          1.60893318e+00,  1.61853007e+00,  1.62827839e+00,  1.63818394e+00,\n",
       "          1.64825289e+00,  1.65849178e+00,  1.66890755e+00,  1.67950758e+00,\n",
       "          1.69029976e+00,  1.70129248e+00,  1.71249472e+00,  1.72391607e+00,\n",
       "          1.73556683e+00,  1.74745807e+00,  1.75960165e+00,  1.77201041e+00,\n",
       "          1.78469817e+00,  1.79767991e+00,  1.81097188e+00,  1.82459172e+00,\n",
       "          1.83855869e+00,  1.85289381e+00,  1.86762013e+00,  1.88276297e+00,\n",
       "          1.89835027e+00,  1.91441293e+00,  1.93098528e+00,  1.94810558e+00,\n",
       "          1.96581668e+00,  1.98416680e+00,  2.00321043e+00,  2.02300953e+00,\n",
       "          2.04363495e+00,  2.06516826e+00,  2.08770403e+00,  2.11135280e+00,\n",
       "          2.13624490e+00,  2.16253560e+00,  2.19041194e+00,  2.22010217e+00,\n",
       "          2.25188894e+00,  2.28612837e+00,  2.32327827e+00,  2.36394151e+00,\n",
       "          2.40893550e+00,  2.45940935e+00,  2.51705480e+00,  2.58451873e+00,\n",
       "          2.66630715e+00,  2.77111801e+00,  2.91968299e+00,  3.18580162e+00]),\n",
       "  array([-4.87161122e-02, -3.47523168e-02, -3.32899879e-02, -3.30377874e-02,\n",
       "         -3.23112664e-02, -3.01439256e-02, -2.98349985e-02, -2.85402717e-02,\n",
       "         -2.80035259e-02, -2.42636204e-02, -2.40376144e-02, -2.36081926e-02,\n",
       "         -2.32016929e-02, -2.23025522e-02, -2.09647722e-02, -2.05279347e-02,\n",
       "         -1.99691631e-02, -1.98159693e-02, -1.97265623e-02, -1.93343784e-02,\n",
       "         -1.90265166e-02, -1.89788988e-02, -1.87182043e-02, -1.86508465e-02,\n",
       "         -1.86158898e-02, -1.84891772e-02, -1.83382504e-02, -1.82239264e-02,\n",
       "         -1.81119513e-02, -1.79912641e-02, -1.78946316e-02, -1.78806125e-02,\n",
       "         -1.76155022e-02, -1.73191010e-02, -1.71399385e-02, -1.71241495e-02,\n",
       "         -1.71075055e-02, -1.71060679e-02, -1.68565977e-02, -1.68043847e-02,\n",
       "         -1.67460230e-02, -1.66137685e-02, -1.64820568e-02, -1.63660485e-02,\n",
       "         -1.63414438e-02, -1.61462091e-02, -1.61313110e-02, -1.61044744e-02,\n",
       "         -1.60995805e-02, -1.60630639e-02, -1.60397027e-02, -1.59850508e-02,\n",
       "         -1.59689278e-02, -1.57267581e-02, -1.57229179e-02, -1.56944072e-02,\n",
       "         -1.56912006e-02, -1.55938823e-02, -1.55824637e-02, -1.54033253e-02,\n",
       "         -1.51520873e-02, -1.49676828e-02, -1.49456820e-02, -1.48856858e-02,\n",
       "         -1.48576051e-02, -1.47760544e-02, -1.47613628e-02, -1.47572095e-02,\n",
       "         -1.46584395e-02, -1.44833103e-02, -1.44363899e-02, -1.43393765e-02,\n",
       "         -1.43266252e-02, -1.41193475e-02, -1.40389315e-02, -1.39274645e-02,\n",
       "         -1.38974872e-02, -1.38923761e-02, -1.38502530e-02, -1.38051333e-02,\n",
       "         -1.37433617e-02, -1.36670631e-02, -1.36474609e-02, -1.36286023e-02,\n",
       "         -1.36249625e-02, -1.35112662e-02, -1.35023668e-02, -1.33804563e-02,\n",
       "         -1.33556594e-02, -1.33388031e-02, -1.32392868e-02, -1.31644834e-02,\n",
       "         -1.31407127e-02, -1.31310505e-02, -1.31042525e-02, -1.28816189e-02,\n",
       "         -1.28049214e-02, -1.27271412e-02, -1.26814110e-02, -1.26795909e-02,\n",
       "         -1.26787599e-02, -1.26264915e-02, -1.26222206e-02, -1.26017257e-02,\n",
       "         -1.25283523e-02, -1.24979281e-02, -1.24163021e-02, -1.24014499e-02,\n",
       "         -1.23459064e-02, -1.22642690e-02, -1.22547621e-02, -1.21746726e-02,\n",
       "         -1.21447136e-02, -1.20128524e-02, -1.20026085e-02, -1.19477468e-02,\n",
       "         -1.19257750e-02, -1.19042870e-02, -1.18925514e-02, -1.18903343e-02,\n",
       "         -1.18697648e-02, -1.18530978e-02, -1.18102408e-02, -1.17997074e-02,\n",
       "         -1.17087006e-02, -1.16289118e-02, -1.15716513e-02, -1.15077861e-02,\n",
       "         -1.14781388e-02, -1.14150273e-02, -1.13759843e-02, -1.12823620e-02,\n",
       "         -1.12695995e-02, -1.11730560e-02, -1.10771869e-02, -1.09367555e-02,\n",
       "         -1.08928710e-02, -1.08682384e-02, -1.07093513e-02, -1.07011396e-02,\n",
       "         -1.06193133e-02, -1.05910089e-02, -1.05851585e-02, -1.05553450e-02,\n",
       "         -1.05173513e-02, -1.05024210e-02, -1.04974284e-02, -1.03978247e-02,\n",
       "         -1.03784122e-02, -1.03478346e-02, -1.02852855e-02, -1.01797709e-02,\n",
       "         -1.01702745e-02, -1.01691576e-02, -1.00852095e-02, -9.97024698e-03,\n",
       "         -9.93903920e-03, -9.92075868e-03, -9.74863371e-03, -9.74351370e-03,\n",
       "         -9.72588071e-03, -9.64361788e-03, -9.58959985e-03, -9.58630558e-03,\n",
       "         -9.57049568e-03, -9.55766977e-03, -9.49340627e-03, -9.46189186e-03,\n",
       "         -9.45909755e-03, -9.45351049e-03, -9.38783113e-03, -9.32247787e-03,\n",
       "         -9.32009590e-03, -9.31046088e-03, -9.28611436e-03, -9.23563614e-03,\n",
       "         -9.09910585e-03, -9.09019556e-03, -9.08000955e-03, -9.06289244e-03,\n",
       "         -9.05367477e-03, -9.04903493e-03, -8.97889140e-03, -8.95315470e-03,\n",
       "         -8.94610743e-03, -8.81410357e-03, -8.77014866e-03, -8.76117659e-03,\n",
       "         -8.75015948e-03, -8.73127049e-03, -8.58578933e-03, -8.56735235e-03,\n",
       "         -8.55013748e-03, -8.50358253e-03, -8.49941248e-03, -8.47072253e-03,\n",
       "         -8.44784120e-03, -8.41531971e-03, -8.29917064e-03, -8.25602563e-03,\n",
       "         -8.22389159e-03, -8.17619652e-03, -8.10911620e-03, -7.96559092e-03,\n",
       "         -7.92891795e-03, -7.90920834e-03, -7.89922604e-03, -7.84815588e-03,\n",
       "         -7.83636264e-03, -7.78639296e-03, -7.77122664e-03, -7.72809160e-03,\n",
       "         -7.66791960e-03, -7.66100499e-03, -7.63124701e-03, -7.60480270e-03,\n",
       "         -7.58325258e-03, -7.47263035e-03, -7.43767173e-03, -7.33671668e-03,\n",
       "         -7.32163151e-03, -7.31970158e-03, -7.29233269e-03, -7.27385069e-03,\n",
       "         -7.22588420e-03, -7.20670745e-03, -7.18451114e-03, -7.15281544e-03,\n",
       "         -7.14134927e-03, -7.06157522e-03, -7.05682320e-03, -7.02463672e-03,\n",
       "         -6.98933111e-03, -6.90102247e-03, -6.89532814e-03, -6.88447379e-03,\n",
       "         -6.86257739e-03, -6.84281383e-03, -6.81392697e-03, -6.79272462e-03,\n",
       "         -6.77646118e-03, -6.77427069e-03, -6.72158740e-03, -6.68361590e-03,\n",
       "         -6.65561058e-03, -6.50706876e-03, -6.48890273e-03, -6.44583349e-03,\n",
       "         -6.43558705e-03, -6.25416251e-03, -6.22604877e-03, -6.21600082e-03,\n",
       "         -6.20780431e-03, -6.03006558e-03, -6.02890847e-03, -6.01603213e-03,\n",
       "         -5.98449020e-03, -5.98144045e-03, -5.97335788e-03, -5.96509371e-03,\n",
       "         -5.96458688e-03, -5.94240028e-03, -5.94037440e-03, -5.85451825e-03,\n",
       "         -5.80531684e-03, -5.80461116e-03, -5.78844902e-03, -5.75085519e-03,\n",
       "         -5.74075834e-03, -5.71689011e-03, -5.64422889e-03, -5.63658913e-03,\n",
       "         -5.60550370e-03, -5.60032843e-03, -5.51842894e-03, -5.51001770e-03,\n",
       "         -5.50771890e-03, -5.45884405e-03, -5.38963126e-03, -5.30671159e-03,\n",
       "         -5.30635507e-03, -5.29561801e-03, -5.22527214e-03, -5.17397478e-03,\n",
       "         -5.09409282e-03, -5.04471065e-03, -5.02941702e-03, -5.00938361e-03,\n",
       "         -4.98938169e-03, -4.98245597e-03, -4.91615846e-03, -4.90850203e-03,\n",
       "         -4.84063870e-03, -4.83577745e-03, -4.78500304e-03, -4.77669093e-03,\n",
       "         -4.75719738e-03, -4.70242380e-03, -4.68163328e-03, -4.65670013e-03,\n",
       "         -4.62114025e-03, -4.61903411e-03, -4.59518921e-03, -4.58878839e-03,\n",
       "         -4.51921988e-03, -4.49379552e-03, -4.47424754e-03, -4.46468020e-03,\n",
       "         -4.41694749e-03, -4.40917929e-03, -4.39907409e-03, -4.36815045e-03,\n",
       "         -4.36569091e-03, -4.35861271e-03, -4.28850647e-03, -4.26269968e-03,\n",
       "         -4.26020218e-03, -4.22561404e-03, -4.18968576e-03, -4.08748244e-03,\n",
       "         -4.08085354e-03, -4.07530074e-03, -4.04815443e-03, -4.01521453e-03,\n",
       "         -4.00296733e-03, -3.99729105e-03, -3.96055858e-03, -3.95199147e-03,\n",
       "         -3.94011240e-03, -3.93017053e-03, -3.92575577e-03, -3.91574443e-03,\n",
       "         -3.88900297e-03, -3.87207128e-03, -3.85041348e-03, -3.83829554e-03,\n",
       "         -3.79091063e-03, -3.74690013e-03, -3.66922424e-03, -3.66800423e-03,\n",
       "         -3.65752081e-03, -3.58914787e-03, -3.58480639e-03, -3.58078405e-03,\n",
       "         -3.56127776e-03, -3.48561158e-03, -3.48410667e-03, -3.45481669e-03,\n",
       "         -3.44793484e-03, -3.44736875e-03, -3.43349106e-03, -3.43286612e-03,\n",
       "         -3.42304040e-03, -3.41769136e-03, -3.41031811e-03, -3.38803780e-03,\n",
       "         -3.37106216e-03, -3.32073231e-03, -3.26148370e-03, -3.24905291e-03,\n",
       "         -3.18436167e-03, -3.15363126e-03, -3.08635101e-03, -3.05118321e-03,\n",
       "         -3.03885770e-03, -3.01752749e-03, -2.94490849e-03, -2.93259400e-03,\n",
       "         -2.86543410e-03, -2.84774815e-03, -2.84562141e-03, -2.82255652e-03,\n",
       "         -2.80516828e-03, -2.76872670e-03, -2.76196314e-03, -2.73879827e-03,\n",
       "         -2.69693337e-03, -2.67354129e-03, -2.67034902e-03, -2.66918475e-03,\n",
       "         -2.63519231e-03, -2.57628177e-03, -2.50101330e-03, -2.47687165e-03,\n",
       "         -2.47096631e-03, -2.44008551e-03, -2.41603757e-03, -2.41467371e-03,\n",
       "         -2.38664199e-03, -2.32603618e-03, -2.28255562e-03, -2.28223838e-03,\n",
       "         -2.24792624e-03, -2.22864374e-03, -2.21082820e-03, -2.16831194e-03,\n",
       "         -2.11088496e-03, -2.03710265e-03, -2.01494160e-03, -1.93430474e-03,\n",
       "         -1.90906337e-03, -1.88167414e-03, -1.86895600e-03, -1.76861078e-03,\n",
       "         -1.73946867e-03, -1.70761576e-03, -1.70043996e-03, -1.69710467e-03,\n",
       "         -1.65328699e-03, -1.56813209e-03, -1.55373272e-03, -1.53732968e-03,\n",
       "         -1.52531938e-03, -1.48129323e-03, -1.46193067e-03, -1.45778597e-03,\n",
       "         -1.45762790e-03, -1.43037638e-03, -1.41457296e-03, -1.38213881e-03,\n",
       "         -1.32674976e-03, -1.31150996e-03, -1.31055616e-03, -1.25125870e-03,\n",
       "         -1.24555499e-03, -1.23558581e-03, -1.21647503e-03, -1.18908848e-03,\n",
       "         -1.14548556e-03, -1.14432129e-03, -1.09406529e-03, -1.06823807e-03,\n",
       "         -1.05789832e-03, -1.03223021e-03, -9.05820471e-04, -9.00656985e-04,\n",
       "         -8.59478557e-04, -8.53608855e-04, -7.95748218e-04, -7.92788008e-04,\n",
       "         -7.85513029e-04, -7.85014697e-04, -7.48447294e-04, -6.87235012e-04,\n",
       "         -6.25607655e-04, -5.41452214e-04, -4.93307690e-04, -4.67975088e-04,\n",
       "         -4.66551018e-04, -4.60250975e-04, -4.60137395e-04, -3.76921631e-04,\n",
       "         -3.65099130e-04, -3.21126671e-04, -3.00451708e-04, -2.77733036e-04,\n",
       "         -2.00696922e-04, -1.83532023e-04, -1.79352355e-04, -1.62289660e-04,\n",
       "         -1.58694520e-04, -1.28133222e-04, -1.25004145e-04, -1.00878727e-04,\n",
       "         -7.59578622e-05, -6.85316055e-05, -3.10685471e-06,  1.88334716e-05,\n",
       "          7.39651212e-05,  1.12903897e-04,  1.42661452e-04,  1.61310034e-04,\n",
       "          1.70406607e-04,  1.91260131e-04,  2.07807575e-04,  2.26474036e-04,\n",
       "          2.32124935e-04,  3.08189301e-04,  3.16659540e-04,  3.38711790e-04,\n",
       "          3.65057977e-04,  3.80113781e-04,  4.07390218e-04,  4.48880882e-04,\n",
       "          4.80368913e-04,  4.92904737e-04,  5.14202994e-04,  5.34183313e-04,\n",
       "          5.86312755e-04,  5.95710925e-04,  6.23498349e-04,  6.24880168e-04,\n",
       "          6.57579998e-04,  7.22285128e-04,  7.25893651e-04,  7.43981348e-04,\n",
       "          7.59450694e-04,  7.88682702e-04,  7.95869522e-04,  8.17084473e-04,\n",
       "          8.61041121e-04,  8.63732024e-04,  8.64361135e-04,  8.91913739e-04,\n",
       "          8.94938786e-04,  9.12384129e-04,  9.63324811e-04,  9.82856711e-04,\n",
       "          9.90491004e-04,  1.01349267e-03,  1.03385645e-03,  1.07085028e-03,\n",
       "          1.09686179e-03,  1.11225116e-03,  1.11832224e-03,  1.12535126e-03,\n",
       "          1.14808946e-03,  1.18322702e-03,  1.18652629e-03,  1.20466529e-03,\n",
       "          1.20615054e-03,  1.20702668e-03,  1.23968204e-03,  1.24468127e-03,\n",
       "          1.24640715e-03,  1.31319166e-03,  1.37135360e-03,  1.41849368e-03,\n",
       "          1.41952820e-03,  1.43329195e-03,  1.44103530e-03,  1.45311756e-03,\n",
       "          1.48363115e-03,  1.50880464e-03,  1.52105862e-03,  1.58915142e-03,\n",
       "          1.59528593e-03,  1.62673903e-03,  1.63092594e-03,  1.65511713e-03,\n",
       "          1.66252934e-03,  1.66681809e-03,  1.68073484e-03,  1.71897184e-03,\n",
       "          1.84004406e-03,  1.88669108e-03,  1.89708726e-03,  1.90412861e-03,\n",
       "          1.92412503e-03,  1.92572690e-03,  1.96485655e-03,  1.97089986e-03,\n",
       "          2.03450827e-03,  2.04197751e-03,  2.04757698e-03,  2.08901017e-03,\n",
       "          2.13473480e-03,  2.14357446e-03,  2.15074081e-03,  2.15643508e-03,\n",
       "          2.17621983e-03,  2.18349440e-03,  2.18491518e-03,  2.20942529e-03,\n",
       "          2.24829291e-03,  2.25418134e-03,  2.26656733e-03,  2.32603925e-03,\n",
       "          2.34378295e-03,  2.38200108e-03,  2.39042573e-03,  2.51096700e-03,\n",
       "          2.54224857e-03,  2.57826830e-03,  2.59242638e-03,  2.65143144e-03,\n",
       "          2.68512699e-03,  2.74666180e-03,  2.75103424e-03,  2.75581249e-03,\n",
       "          2.85707231e-03,  2.85748217e-03,  2.86649769e-03,  2.86883710e-03,\n",
       "          2.89070540e-03,  2.91047557e-03,  2.91198587e-03,  2.96340347e-03,\n",
       "          2.99871595e-03,  3.00496919e-03,  3.01415779e-03,  3.01573300e-03,\n",
       "          3.04820097e-03,  3.07822294e-03,  3.08103233e-03,  3.14812603e-03,\n",
       "          3.20558792e-03,  3.21287266e-03,  3.22092884e-03,  3.26119241e-03,\n",
       "          3.30960800e-03,  3.31629889e-03,  3.34784055e-03,  3.37058206e-03,\n",
       "          3.37802386e-03,  3.39134894e-03,  3.39561574e-03,  3.42240365e-03,\n",
       "          3.43008677e-03,  3.43433647e-03,  3.44100522e-03,  3.50124984e-03,\n",
       "          3.51572280e-03,  3.52583480e-03,  3.54524595e-03,  3.55186970e-03,\n",
       "          3.55469436e-03,  3.56319743e-03,  3.57386916e-03,  3.63305619e-03,\n",
       "          3.65359138e-03,  3.66071901e-03,  3.66509184e-03,  3.67636721e-03,\n",
       "          3.69825869e-03,  3.70367238e-03,  3.71591579e-03,  3.73167488e-03,\n",
       "          3.75263925e-03,  3.80276154e-03,  3.85296523e-03,  3.85605884e-03,\n",
       "          3.86903425e-03,  3.87170198e-03,  3.89101800e-03,  3.95534729e-03,\n",
       "          3.96047291e-03,  3.97813598e-03,  3.99787455e-03,  4.01099964e-03,\n",
       "          4.08853633e-03,  4.11243665e-03,  4.13279282e-03,  4.15893517e-03,\n",
       "          4.18337153e-03,  4.25408466e-03,  4.25526452e-03,  4.29431124e-03,\n",
       "          4.32138529e-03,  4.39074708e-03,  4.45157913e-03,  4.47394065e-03,\n",
       "          4.61485408e-03,  4.64379278e-03,  4.66905592e-03,  4.68299467e-03,\n",
       "          4.71350242e-03,  4.73703899e-03,  4.83676662e-03,  4.84889574e-03,\n",
       "          4.88064034e-03,  4.88642771e-03,  4.93686607e-03,  5.01035027e-03,\n",
       "          5.08801947e-03,  5.11286836e-03,  5.11751282e-03,  5.23312934e-03,\n",
       "          5.27248443e-03,  5.30287983e-03,  5.32131481e-03,  5.33411680e-03,\n",
       "          5.34050328e-03,  5.37730906e-03,  5.38032931e-03,  5.39295461e-03,\n",
       "          5.39497807e-03,  5.41206306e-03,  5.43393719e-03,  5.46366906e-03,\n",
       "          5.50080449e-03,  5.54439039e-03,  5.54681892e-03,  5.60722956e-03,\n",
       "          5.61873840e-03,  5.63505523e-03,  5.64268695e-03,  5.64580374e-03,\n",
       "          5.67081542e-03,  5.69014280e-03,  5.72019230e-03,  5.73032579e-03,\n",
       "          5.75310205e-03,  5.76002649e-03,  5.78313485e-03,  5.79481943e-03,\n",
       "          5.81890685e-03,  5.84285414e-03,  5.90949565e-03,  5.92223535e-03,\n",
       "          5.93702124e-03,  5.93964465e-03,  5.95187363e-03,  5.95222303e-03,\n",
       "          5.99097594e-03,  6.03060079e-03,  6.03875092e-03,  6.06860715e-03,\n",
       "          6.13311646e-03,  6.15432461e-03,  6.17791092e-03,  6.19548082e-03,\n",
       "          6.35737297e-03,  6.37275038e-03,  6.39617967e-03,  6.41881522e-03,\n",
       "          6.41978800e-03,  6.43462088e-03,  6.61041254e-03,  6.63571958e-03,\n",
       "          6.63596891e-03,  6.75168494e-03,  6.76705008e-03,  6.77760805e-03,\n",
       "          6.77802771e-03,  6.78962144e-03,  6.84149480e-03,  6.86304467e-03,\n",
       "          6.86418766e-03,  6.88968806e-03,  6.94820647e-03,  6.95610661e-03,\n",
       "          7.01245010e-03,  7.03925646e-03,  7.14591352e-03,  7.15325834e-03,\n",
       "          7.16531854e-03,  7.20900957e-03,  7.21228443e-03,  7.24395777e-03,\n",
       "          7.26098719e-03,  7.36593352e-03,  7.36884463e-03,  7.38433532e-03,\n",
       "          7.53407701e-03,  7.73385969e-03,  7.75040229e-03,  7.83422282e-03,\n",
       "          7.84860128e-03,  7.93053364e-03,  7.96728126e-03,  7.97825140e-03,\n",
       "          7.98265359e-03,  8.06651513e-03,  8.08575760e-03,  8.09896536e-03,\n",
       "          8.10285141e-03,  8.10798127e-03,  8.11626117e-03,  8.14752170e-03,\n",
       "          8.22985423e-03,  8.23681900e-03,  8.26510432e-03,  8.26748437e-03,\n",
       "          8.35413607e-03,  8.37989298e-03,  8.43952596e-03,  8.46884241e-03,\n",
       "          8.49669074e-03,  8.49688452e-03,  8.52482741e-03,  8.53454282e-03,\n",
       "          8.53759590e-03,  8.55046467e-03,  8.59419434e-03,  8.67834043e-03,\n",
       "          8.70468357e-03,  8.81268118e-03,  8.82140721e-03,  8.85044498e-03,\n",
       "          8.93509350e-03,  8.96708387e-03,  9.07319274e-03,  9.09461008e-03,\n",
       "          9.09504078e-03,  9.25055479e-03,  9.27076761e-03,  9.27429721e-03,\n",
       "          9.28667410e-03,  9.29820882e-03,  9.37436529e-03,  9.37906978e-03,\n",
       "          9.41975125e-03,  9.43670396e-03,  9.44694833e-03,  9.50713590e-03,\n",
       "          9.53834818e-03,  9.60591686e-03,  9.62010282e-03,  9.66964178e-03,\n",
       "          9.70900745e-03,  9.76239906e-03,  9.89438376e-03,  9.95590678e-03,\n",
       "          9.97338306e-03,  1.00292163e-02,  1.00711515e-02,  1.00716821e-02,\n",
       "          1.01208777e-02,  1.02125703e-02,  1.02352320e-02,  1.02353035e-02,\n",
       "          1.02721652e-02,  1.03079369e-02,  1.03183314e-02,  1.04022586e-02,\n",
       "          1.04191909e-02,  1.04224315e-02,  1.04643271e-02,  1.04749531e-02,\n",
       "          1.05650280e-02,  1.05757774e-02,  1.06196830e-02,  1.07242971e-02,\n",
       "          1.07471832e-02,  1.07787123e-02,  1.08296899e-02,  1.08381143e-02,\n",
       "          1.11080254e-02,  1.11279240e-02,  1.13169666e-02,  1.13394067e-02,\n",
       "          1.13635612e-02,  1.13777905e-02,  1.14134325e-02,  1.14152403e-02,\n",
       "          1.14171454e-02,  1.14454116e-02,  1.15048856e-02,  1.15554930e-02,\n",
       "          1.16140307e-02,  1.16847932e-02,  1.17344229e-02,  1.17398333e-02,\n",
       "          1.18253154e-02,  1.18837451e-02,  1.18983979e-02,  1.19673442e-02,\n",
       "          1.19874736e-02,  1.20102802e-02,  1.20413658e-02,  1.20928174e-02,\n",
       "          1.22268698e-02,  1.22494288e-02,  1.22530634e-02,  1.22671445e-02,\n",
       "          1.23271409e-02,  1.23496596e-02,  1.23998651e-02,  1.24747855e-02,\n",
       "          1.25275346e-02,  1.26423272e-02,  1.26499400e-02,  1.26642894e-02,\n",
       "          1.27131669e-02,  1.27600846e-02,  1.28106373e-02,  1.29450248e-02,\n",
       "          1.29476298e-02,  1.29565860e-02,  1.29868128e-02,  1.30006235e-02,\n",
       "          1.30549498e-02,  1.32315511e-02,  1.33290927e-02,  1.33459238e-02,\n",
       "          1.34908077e-02,  1.35297965e-02,  1.36948143e-02,  1.38227650e-02,\n",
       "          1.38446580e-02,  1.41318405e-02,  1.41922545e-02,  1.43074214e-02,\n",
       "          1.44258764e-02,  1.45305378e-02,  1.45552088e-02,  1.46472503e-02,\n",
       "          1.46602991e-02,  1.47004453e-02,  1.47013550e-02,  1.47719575e-02,\n",
       "          1.50113835e-02,  1.50282172e-02,  1.50699741e-02,  1.51204598e-02,\n",
       "          1.51594137e-02,  1.54085849e-02,  1.54694965e-02,  1.55130066e-02,\n",
       "          1.55167656e-02,  1.55379006e-02,  1.57906489e-02,  1.64070925e-02,\n",
       "          1.66354950e-02,  1.66740464e-02,  1.67446974e-02,  1.67517369e-02,\n",
       "          1.68163311e-02,  1.68600773e-02,  1.71583588e-02,  1.71661673e-02,\n",
       "          1.73804334e-02,  1.74500942e-02,  1.74894190e-02,  1.75134074e-02,\n",
       "          1.75438089e-02,  1.78214867e-02,  1.78499985e-02,  1.79128350e-02,\n",
       "          1.79303439e-02,  1.80911430e-02,  1.82273916e-02,  1.82308566e-02,\n",
       "          1.86458821e-02,  1.87560361e-02,  1.90452345e-02,  1.92173664e-02,\n",
       "          1.93490965e-02,  1.93578852e-02,  1.94597366e-02,  1.94946762e-02,\n",
       "          1.98787920e-02,  1.98982330e-02,  1.99297949e-02,  2.00973702e-02,\n",
       "          2.05847670e-02,  2.16631700e-02,  2.18219885e-02,  2.21257828e-02,\n",
       "          2.30297023e-02,  2.30532770e-02,  2.35016617e-02,  2.35247136e-02,\n",
       "          2.40910196e-02,  2.41643920e-02,  2.42926825e-02,  2.44833953e-02,\n",
       "          2.45145062e-02,  2.57393373e-02,  2.65877954e-02,  2.71014229e-02,\n",
       "          2.75029042e-02,  2.89813382e-02,  2.96181626e-02,  3.21393005e-02,\n",
       "          3.39947561e-02,  3.75201695e-02,  4.53563764e-02,  5.79169000e-02])),\n",
       " (0.01051533325047632, 0.00014288587942666914, 0.9925277132669934))"
      ]
     },
     "execution_count": 337,
     "metadata": {},
     "output_type": "execute_result"
    },
    {
     "data": {
      "image/png": "[encoded data removed]",
      "text/plain": [
       "<Figure size 432x288 with 1 Axes>"
      ]
     },
     "metadata": {
      "needs_background": "light"
     },
     "output_type": "display_data"
    }
   ],
   "source": [
    "stats.probplot(spreadtable['spread'], dist=\"norm\", plot=plt)"
   ]
  },
  {
   "cell_type": "code",
   "execution_count": 353,
   "metadata": {},
   "outputs": [],
   "source": [
    "def spreadBacktest(spreadtable):\n",
    "    spreadtable['moving_average'] = spreadtable['spread'].rolling(20).mean()\n",
    "    spreadtable['std'] = spreadtable['spread'].rolling(20).std()\n",
    "    spreadtable['upper_band'] = spreadtable['moving_average'] + spreadtable['std']\n",
    "    spreadtable['lower_band'] = spreadtable['moving_average'] - spreadtable['std']\n",
    "    spreadtable.dropna(inplace=True)\n",
    "\n",
    "    spreadtable['long_entry'] = spreadtable.spread < spreadtable.lower_band   \n",
    "    spreadtable['long_exit'] = spreadtable.spread >= spreadtable.moving_average\n",
    "\n",
    "    spreadtable['positions_long'] = np.nan  \n",
    "    spreadtable.loc[spreadtable.long_entry,'positions_long']= 1  \n",
    "    spreadtable.loc[spreadtable.long_exit,'positions_long']= 0  \n",
    "\n",
    "    spreadtable.positions_long = spreadtable.positions_long.fillna(method='ffill')  \n",
    "\n",
    "    spreadtable['short_entry'] = spreadtable.spread > spreadtable.upper_band   \n",
    "    spreadtable['short_exit'] = spreadtable.spread <= spreadtable.moving_average\n",
    "\n",
    "    spreadtable['positions_short'] = np.nan  \n",
    "    spreadtable.loc[spreadtable.short_entry,'positions_short']= -1  \n",
    "    spreadtable.loc[spreadtable.short_exit,'positions_short']= 0  \n",
    "\n",
    "    spreadtable.positions_short = spreadtable.positions_short.fillna(method='ffill')\n",
    "\n",
    "    spreadtable['positions'] = spreadtable.positions_long + spreadtable.positions_short\n",
    "\n",
    "    spreadtable['Strategy_returns'] = spreadtable['real_return']*spreadtable['positions'].shift(1)\n",
    "    spreadtable['Buy & Hold'] = spreadtable['real_return']\n",
    "\n",
    "    spreadtable[['Buy & Hold', 'Strategy_returns']].dropna().cumsum().apply(np.exp).plot(figsize=(10,6))\n",
    "    print(\"Buy & Hold: APR = {}, sharpratio = {}\".format(APR(spreadtable['Buy & Hold']), sharpratio(spreadtable['Buy & Hold'])))\n",
    "    print(\"Strategy: APR = {}, sharpratio = {}\".format(APR(spreadtable['Strategy_returns']), sharpratio(spreadtable['Strategy_returns'])))\n"
   ]
  },
  {
   "cell_type": "code",
   "execution_count": 354,
   "metadata": {},
   "outputs": [
    {
     "name": "stdout",
     "output_type": "stream",
     "text": [
      "Buy & Hold: APR = 0.256246446309617, sharpratio = 0.3797856431376211\n",
      "Strategy: APR = -0.1484004627498816, sharpratio = -0.38065509674103243\n"
     ]
    },
    {
     "data": {
      "image/png": "[encoded data removed]",
      "text/plain": [
       "<Figure size 720x432 with 1 Axes>"
      ]
     },
     "metadata": {
      "needs_background": "light"
     },
     "output_type": "display_data"
    }
   ],
   "source": [
    "dfspread = calculateRollingSpread(dfconcat)\n",
    "spreadBacktest(dfspread)"
   ]
  },
  {
   "cell_type": "code",
   "execution_count": null,
   "metadata": {},
   "outputs": [],
   "source": []
  }
 ],
 "metadata": {
  "kernelspec": {
   "display_name": "Python 3",
   "language": "python",
   "name": "python3"
  },
  "language_info": {
   "codemirror_mode": {
    "name": "ipython",
    "version": 3
   },
   "file_extension": ".py",
   "mimetype": "text/x-python",
   "name": "python",
   "nbconvert_exporter": "python",
   "pygments_lexer": "ipython3",
   "version": "3.6.6"
  },
  "toc": {
   "base_numbering": 1,
   "nav_menu": {},
   "number_sections": true,
   "sideBar": true,
   "skip_h1_title": false,
   "title_cell": "Table of Contents",
   "title_sidebar": "Contents",
   "toc_cell": false,
   "toc_position": {},
   "toc_section_display": true,
   "toc_window_display": false
  }
 },
 "nbformat": 4,
 "nbformat_minor": 2
}
